{
 "cells": [
  {
   "cell_type": "markdown",
   "metadata": {
    "id": "g0eerPRACp2t"
   },
   "source": [
    "#Conceitos iniciais de Python\n"
   ]
  },
  {
   "cell_type": "markdown",
   "metadata": {
    "id": "QQ6_0EOGOUfq"
   },
   "source": [
    "##Operações"
   ]
  },
  {
   "cell_type": "markdown",
   "metadata": {
    "id": "rSEFbGrCOc1O"
   },
   "source": [
    "1. Aritméticas"
   ]
  },
  {
   "cell_type": "code",
   "execution_count": 1,
   "metadata": {
    "colab": {
     "base_uri": "https://localhost:8080/"
    },
    "id": "fbQeWy1PImJc",
    "outputId": "74ca1ea9-6469-4f88-eb2f-bbc2da9f590c"
   },
   "outputs": [
    {
     "name": "stdout",
     "output_type": "stream",
     "text": [
      "4\n"
     ]
    }
   ],
   "source": [
    "soma = 1 + 3\n",
    "print(soma)"
   ]
  },
  {
   "cell_type": "code",
   "execution_count": 2,
   "metadata": {
    "colab": {
     "base_uri": "https://localhost:8080/"
    },
    "id": "R4JNEzjPIr2W",
    "outputId": "55cdc315-cf50-4837-edd8-d5ddff98994d"
   },
   "outputs": [
    {
     "name": "stdout",
     "output_type": "stream",
     "text": [
      "7\n"
     ]
    }
   ],
   "source": [
    "a = 2\n",
    "b = 5\n",
    "\n",
    "soma = a + b\n",
    "\n",
    "print (soma)"
   ]
  },
  {
   "cell_type": "code",
   "execution_count": 3,
   "metadata": {
    "colab": {
     "base_uri": "https://localhost:8080/"
    },
    "id": "91IouQmVIwyk",
    "outputId": "962a6af5-c0b8-4735-b25d-373ac240e917"
   },
   "outputs": [
    {
     "name": "stdout",
     "output_type": "stream",
     "text": [
      "Este é o produto de 2 e 3: 6, esta a razão entre 6 e 3: 2.0, e esta é o resultado de 5 ao quadrado: 25\n"
     ]
    }
   ],
   "source": [
    "produto = 2*3\n",
    "\n",
    "razao = 6/3\n",
    "\n",
    "pow = b**a\n",
    "\n",
    "print(\"Este é o produto de 2 e 3: {}, esta a razão entre 6 e 3: {}, e esta é o resultado de 5 ao quadrado: {}\".format(produto, razao, pow))\n"
   ]
  },
  {
   "cell_type": "markdown",
   "metadata": {
    "id": "Ow2DB_rlJSUj"
   },
   "source": [
    "2. Booleanas"
   ]
  },
  {
   "cell_type": "code",
   "execution_count": 4,
   "metadata": {
    "colab": {
     "base_uri": "https://localhost:8080/"
    },
    "id": "r4slASaBKSIb",
    "outputId": "028554d4-280d-4d51-ec7c-4c64b18ed65e"
   },
   "outputs": [
    {
     "name": "stdout",
     "output_type": "stream",
     "text": [
      "True\n",
      "False\n"
     ]
    }
   ],
   "source": [
    "print(4 < 5)\n",
    "print(4 > 5)"
   ]
  },
  {
   "cell_type": "code",
   "execution_count": 5,
   "metadata": {
    "colab": {
     "base_uri": "https://localhost:8080/"
    },
    "id": "X0XZul_xKrjC",
    "outputId": "64c42e69-ca89-4c93-f7ab-30cedaef6f3a"
   },
   "outputs": [
    {
     "name": "stdout",
     "output_type": "stream",
     "text": [
      "a > b? False\n",
      "5 é igual a 5? True\n",
      "a é igual a b? False\n",
      "b é diferente de 10? True\n"
     ]
    }
   ],
   "source": [
    "#É possível comparar com variáveis também!\n",
    "\n",
    "a = 10\n",
    "b = 12\n",
    "\n",
    "print(\"a > b?\", a > b)\n",
    "\n",
    "print (\"5 é igual a 5?\", 5 == 5)\n",
    "\n",
    "#Podemos armazenar o resultado de alguma comparação em uma outra variável para utilizá-la futuramente (importante para loops, por exemplo)\n",
    "\n",
    "c = a == b #a variável c armazena o resultado da comparação 'a é igual a b?'\n",
    "d = b != 10 #d recebe o resultado da comparação \"b é diferente de 10?\"\n",
    "print(\"a é igual a b?\", c)\n",
    "print(\"b é diferente de 10?\", d)"
   ]
  },
  {
   "cell_type": "markdown",
   "metadata": {
    "id": "H3Sz21LnN_RH"
   },
   "source": [
    "##Loops e condicionais"
   ]
  },
  {
   "cell_type": "markdown",
   "metadata": {
    "id": "52XrChlySUNr"
   },
   "source": [
    "1. Loops"
   ]
  },
  {
   "cell_type": "code",
   "execution_count": 6,
   "metadata": {
    "colab": {
     "base_uri": "https://localhost:8080/"
    },
    "id": "eo-jshxtOOm5",
    "outputId": "1392d225-a9a9-4c9c-dea9-a769f3f21789"
   },
   "outputs": [
    {
     "name": "stdout",
     "output_type": "stream",
     "text": [
      "Faltam 3 repetições\n",
      "Faltam 2 repetições\n",
      "Faltam 1 repetições\n",
      "Faltam 0 repetições\n",
      "resultado: 16\n",
      "repetição i = 1 resultado =  4\n",
      "repetição i = 2 resultado =  8\n",
      "repetição i = 3 resultado =  12\n",
      "repetição i = 4 resultado =  16\n"
     ]
    }
   ],
   "source": [
    "#Calculando um produto de um número por ele mesmo utilizando um loop while\n",
    "\n",
    "nro = 4\n",
    "rep = 4\n",
    "\n",
    "while rep != 0:\n",
    "  resultado = 4*4\n",
    "  rep = rep - 1\n",
    "  print(\"Faltam {} repetições\".format(rep))\n",
    "else:\n",
    "  print(\"resultado:\", resultado)\n",
    "\n",
    "\n",
    "#Como seria com um loop for?\n",
    "resultado2 = 0\n",
    "for i in range(1, 5):\n",
    "  resultado2 += 4\n",
    "  print(\"repetição i =\", i, \"resultado = \", resultado2)"
   ]
  },
  {
   "cell_type": "code",
   "execution_count": 7,
   "metadata": {
    "colab": {
     "base_uri": "https://localhost:8080/"
    },
    "id": "F0reRQujQM3l",
    "outputId": "5a8293e6-c74c-4d9a-e9dc-8fcffc9b3b37"
   },
   "outputs": [
    {
     "name": "stdout",
     "output_type": "stream",
     "text": [
      "['banana', 'maça', 'uva']\n",
      "banana\n",
      "maça\n",
      "uva\n"
     ]
    }
   ],
   "source": [
    "#Como o for interage com uma lista por exemplo?\n",
    "\n",
    "comidas = []\n",
    "\n",
    "comidas.append(\"banana\")\n",
    "comidas.append(\"maça\")\n",
    "comidas.append('uva')\n",
    "\n",
    "print(comidas)\n",
    "\n",
    "for i in comidas: #itera sobre cada item da lista. Útil para futuras operações com os itens\n",
    "  print(i)"
   ]
  },
  {
   "cell_type": "code",
   "execution_count": 8,
   "metadata": {
    "colab": {
     "base_uri": "https://localhost:8080/"
    },
    "id": "JOVECoYvRCxa",
    "outputId": "bb631022-3b1b-4f97-824f-2a91f57b010e"
   },
   "outputs": [
    {
     "name": "stdin",
     "output_type": "stream",
     "text": [
      " 1\n",
      " 2\n",
      " 3\n",
      " 4\n",
      " 5\n"
     ]
    }
   ],
   "source": [
    "#E uma lista de palavras iterando com um for?\n",
    "\n",
    "entradas = []\n",
    "\n",
    "for i in range(0, 5): #um for que irá repetir 4 vezes\n",
    "  entradas.append(input())\n"
   ]
  },
  {
   "cell_type": "code",
   "execution_count": 9,
   "metadata": {
    "colab": {
     "base_uri": "https://localhost:8080/"
    },
    "id": "WVl9AcNtRbbr",
    "outputId": "2e524c2b-154d-4010-e78f-4e457314c0f8"
   },
   "outputs": [
    {
     "name": "stdout",
     "output_type": "stream",
     "text": [
      "1 --- <class 'str'>\n",
      "3 --- <class 'str'>\n",
      "5 --- <class 'str'>\n"
     ]
    }
   ],
   "source": [
    "print(entradas[0], \"---\", type(entradas[0]))\n",
    "print(entradas[2], \"---\", type(entradas[2]))\n",
    "print(entradas[4], \"---\", type(entradas[4]))\n",
    "\n",
    "#Pera, 1 não é pra ser um inteiro?\n",
    "\n",
    "#entradas[0] = int(entradas[0]) #Convertendo o valor que está contido na lista entradas, na posição 0, para o tipo inteiro\n",
    "\n",
    "#print(entradas[0], \"---\", type(entradas[0]))"
   ]
  },
  {
   "cell_type": "markdown",
   "metadata": {
    "id": "fpXFAAzLtXhB"
   },
   "source": [
    "2. Condicionais"
   ]
  },
  {
   "cell_type": "code",
   "execution_count": 10,
   "metadata": {
    "colab": {
     "base_uri": "https://localhost:8080/"
    },
    "id": "0vBsJ1LOtZN_",
    "outputId": "a1f45a06-c234-4f89-fc14-5af8944c7845"
   },
   "outputs": [
    {
     "name": "stdout",
     "output_type": "stream",
     "text": [
      "Valor é menor que 10 :(\n",
      "Tá correto!!\n"
     ]
    }
   ],
   "source": [
    "valor = 3\n",
    "\n",
    "if valor > 10: #Verifica se a variável valor é maior que 10\n",
    "  print(\"Valor é maior que 10!\") #se for, realiza uma ação\n",
    "else: #se não for, realiza outra\n",
    "  print(\"Valor é menor que 10 :(\")\n",
    "\n",
    "#É possível definir mais de um condicional por exemplo:\n",
    "\n",
    "valor1 = 23\n",
    "valor2 = 10\n",
    "\n",
    "if valor1 == 23 and valor2 == 10:\n",
    "  print(\"Tá correto!!\")\n",
    "elif valor1 == 23 and valor2 != 10:\n",
    "  print(\"Valor 1 ok\")\n",
    "elif valor1 != 23 and valor2 == 10:\n",
    "  print(\"valor 2 ok\")\n",
    "else:\n",
    "  print(\"Tudo incorreto!\")\n"
   ]
  },
  {
   "cell_type": "markdown",
   "metadata": {
    "id": "ktS_M-y9v-Bc"
   },
   "source": [
    "##Dicionários"
   ]
  },
  {
   "cell_type": "code",
   "execution_count": 11,
   "metadata": {
    "colab": {
     "base_uri": "https://localhost:8080/"
    },
    "id": "87W6PI6IwAON",
    "outputId": "a92fef7d-2d29-47b5-b941-1f21009f0532"
   },
   "outputs": [
    {
     "name": "stdout",
     "output_type": "stream",
     "text": [
      "3\n",
      "['daniel', 'cesar', 'lachi', 'mariana', 'sasaki']\n",
      "daniel\n"
     ]
    }
   ],
   "source": [
    "#Exemplo de dicionários:\n",
    "\n",
    "identificaçao = {'daniel':1, 'mariana':2, 'cesar':3, 'renata':4, 'lachi':4} #Os nomes são as keys e os números os valores\n",
    "\n",
    "print(identificaçao['cesar']) #podemos acessar cada os valores por meios das keys a eles associadas\n",
    "\n",
    "\n",
    "#É possível associar mais de um valor a uma mesma key\n",
    "membros  = {'estrategia':['daniel', 'cesar', 'lachi', 'mariana', 'sasaki'], 'nlp':['renata', 'felipe', 'lachi', 'Rian'], 'ds':['kauã', 'daniel', 'davi', 'feitosa']}\n",
    "\n",
    "print(membros['estrategia'])\n",
    "print(membros['estrategia'][0]) #E ainda acessar a cada uma delas individualmente\n"
   ]
  },
  {
   "cell_type": "markdown",
   "metadata": {
    "id": "KMPLzBgu0kxo"
   },
   "source": [
    "##Funções\n"
   ]
  },
  {
   "cell_type": "code",
   "execution_count": 12,
   "metadata": {
    "colab": {
     "base_uri": "https://localhost:8080/"
    },
    "id": "C7Z9WCI61Obh",
    "outputId": "32af5d4a-2820-4f69-f9da-be7b1c564978"
   },
   "outputs": [
    {
     "name": "stdout",
     "output_type": "stream",
     "text": [
      "6\n",
      "[0, 1, 2, 3, 4, 5, 6, 7, 8, 9, 10, 11, 12, 13, 14, 15] \n",
      " [0, 2, 4, 6, 8, 10, 12, 14] \n",
      " [1, 3, 5, 7, 9, 11, 13]\n"
     ]
    }
   ],
   "source": [
    "#Basicamente, há dois tipos de funções: as que retornam algum valor e aquelas que não retornam\n",
    "\n",
    "def calculaProduto(nro1, nro2): #Transformando em função aquele mesmo laço while do início\n",
    "  resultado = 0\n",
    "  while nro2 != 0:\n",
    "    resultado += nro1\n",
    "    nro2 -= 1\n",
    "\n",
    "  return resultado\n",
    "\n",
    "produto2e3 = calculaProduto(2, 3)\n",
    "\n",
    "print(produto2e3)\n",
    "\n",
    "\n",
    "def separaLista (listaOriginal, listaPar, listaImpar): #Recebe duas listas e separa os valores conforme o valor em que cada um está registrado\n",
    "  for i in range(0, len(listaOriginal) - 1, 2):\n",
    "    listaPar.append(listaOriginal[i])\n",
    "  for i in range(1, len(listaOriginal) - 1, 2):\n",
    "    listaImpar.append(listaOriginal[i])\n",
    "\n",
    "listaOriginal = [0, 1, 2, 3, 4, 5, 6, 7, 8, 9, 10, 11, 12, 13, 14, 15]\n",
    "lista1 = []\n",
    "lista2 = []\n",
    "\n",
    "separaLista(listaOriginal, lista1, lista2)\n",
    "\n",
    "print(listaOriginal, '\\n', lista1, '\\n', lista2)"
   ]
  },
  {
   "cell_type": "markdown",
   "metadata": {
    "id": "DIsLpzssQvgU"
   },
   "source": [
    "# Pandas\n",
    "\n",
    "- A ideia deste notebook é fazer uma introdução ao [Pandas](https://pandas.pydata.org/), uma biblioteca que será muito usada no contexto da análise de dados."
   ]
  },
  {
   "cell_type": "code",
   "execution_count": 13,
   "metadata": {
    "id": "7npPEFgkCwyO"
   },
   "outputs": [],
   "source": [
    "import pandas as pd #importando o pandas"
   ]
  },
  {
   "cell_type": "markdown",
   "metadata": {
    "id": "BciIElFkAh-L"
   },
   "source": [
    "A análise começa sempre importando um arquivo. O Pandas aceita vários formatos diferentes, mas o mais comum costuma ser csv.\n",
    "Então, instanciamos uma variável, aqui chamada de \"data\", que receberá as informações do dataset lido pelo pandas"
   ]
  },
  {
   "cell_type": "raw",
   "metadata": {},
   "source": [
    "from google.colab import drive\n",
    "drive.mount('/content/drive')"
   ]
  },
  {
   "cell_type": "raw",
   "metadata": {},
   "source": [
    "data = pd.read_csv(\"/content/drive/Shareddrives/Turing USP/Áreas de Foco/Data Science/2023.2/Turing <> Cosmos/adult.csv\", na_values='?')"
   ]
  },
  {
   "cell_type": "code",
   "execution_count": 14,
   "metadata": {
    "id": "YksjPpwjGv7h"
   },
   "outputs": [],
   "source": [
    "data = pd.read_csv(\"./adult.csv\", na_values='?')"
   ]
  },
  {
   "cell_type": "markdown",
   "metadata": {
    "id": "TGigZmi6HP9H"
   },
   "source": [
    "Após carregar o dataset, vamos dar uma olhada inicial nas informações contidas nele.\n",
    "\n",
    "Com a função `.info()` é possível entender como o dataset está organizado, quantas linhas e colunas (features) há, bem como o tipo dos dados registrados em cada uma delas. Interessante, por exemplo, por permitir entender se é necessário alterar o tipo de alguma feature.\n",
    "\n",
    "Já as funções `.head()` e `.tail()` permitem uma observação de algumas linhas iniciais e finais, respectivamente, do dataset. Costuma ser bem útil para entender um pouco mais da disposição dos dados, bem como para ter ideias de como trabalhar com as informações disponíveis. A quantidade de linhas mostradas na sequência de cada um dos comandos, por padrão, é 10, mas o valor pode ser alterado passando um número."
   ]
  },
  {
   "cell_type": "code",
   "execution_count": 15,
   "metadata": {
    "colab": {
     "base_uri": "https://localhost:8080/"
    },
    "id": "Z_glTHxOHDVM",
    "outputId": "ff74124c-58d5-4875-f0fb-21066145f7c7"
   },
   "outputs": [
    {
     "name": "stdout",
     "output_type": "stream",
     "text": [
      "<class 'pandas.core.frame.DataFrame'>\n",
      "RangeIndex: 48842 entries, 0 to 48841\n",
      "Data columns (total 15 columns):\n",
      " #   Column           Non-Null Count  Dtype \n",
      "---  ------           --------------  ----- \n",
      " 0   age              48842 non-null  int64 \n",
      " 1   workclass        46043 non-null  object\n",
      " 2   fnlwgt           48842 non-null  int64 \n",
      " 3   education        48842 non-null  object\n",
      " 4   educational-num  48842 non-null  int64 \n",
      " 5   marital-status   48842 non-null  object\n",
      " 6   occupation       46033 non-null  object\n",
      " 7   relationship     48842 non-null  object\n",
      " 8   race             48842 non-null  object\n",
      " 9   gender           48842 non-null  object\n",
      " 10  capital-gain     48842 non-null  int64 \n",
      " 11  capital-loss     48842 non-null  int64 \n",
      " 12  hours-per-week   48842 non-null  int64 \n",
      " 13  native-country   47985 non-null  object\n",
      " 14  income           48842 non-null  object\n",
      "dtypes: int64(6), object(9)\n",
      "memory usage: 5.6+ MB\n"
     ]
    }
   ],
   "source": [
    "data.info()"
   ]
  },
  {
   "cell_type": "code",
   "execution_count": 16,
   "metadata": {
    "colab": {
     "base_uri": "https://localhost:8080/"
    },
    "id": "hcrvVeczd30i",
    "outputId": "f55bcaab-a543-46c0-e9e6-9c8e28f59c8b"
   },
   "outputs": [
    {
     "data": {
      "text/plain": [
       "(48842, 15)"
      ]
     },
     "execution_count": 16,
     "metadata": {},
     "output_type": "execute_result"
    }
   ],
   "source": [
    "data.shape"
   ]
  },
  {
   "cell_type": "markdown",
   "metadata": {
    "id": "9T9UQIf5Waez"
   },
   "source": [
    "Como resultado da função .info(), nota-se que não há nenhum dado faltante em todas as 48842 linhas do dataset. Além disso, percebe-se que há mais features não-numéricas do que numéricas. Vamos observar mais de perto a organização dessas features"
   ]
  },
  {
   "cell_type": "code",
   "execution_count": 17,
   "metadata": {
    "colab": {
     "base_uri": "https://localhost:8080/",
     "height": 380
    },
    "id": "I6M3MpZMHF6B",
    "outputId": "5cbe2071-07e4-4bd0-9726-d13b43b3c868"
   },
   "outputs": [
    {
     "data": {
      "text/html": [
       "<div>\n",
       "<style scoped>\n",
       "    .dataframe tbody tr th:only-of-type {\n",
       "        vertical-align: middle;\n",
       "    }\n",
       "\n",
       "    .dataframe tbody tr th {\n",
       "        vertical-align: top;\n",
       "    }\n",
       "\n",
       "    .dataframe thead th {\n",
       "        text-align: right;\n",
       "    }\n",
       "</style>\n",
       "<table border=\"1\" class=\"dataframe\">\n",
       "  <thead>\n",
       "    <tr style=\"text-align: right;\">\n",
       "      <th></th>\n",
       "      <th>age</th>\n",
       "      <th>workclass</th>\n",
       "      <th>fnlwgt</th>\n",
       "      <th>education</th>\n",
       "      <th>educational-num</th>\n",
       "      <th>marital-status</th>\n",
       "      <th>occupation</th>\n",
       "      <th>relationship</th>\n",
       "      <th>race</th>\n",
       "      <th>gender</th>\n",
       "      <th>capital-gain</th>\n",
       "      <th>capital-loss</th>\n",
       "      <th>hours-per-week</th>\n",
       "      <th>native-country</th>\n",
       "      <th>income</th>\n",
       "    </tr>\n",
       "  </thead>\n",
       "  <tbody>\n",
       "    <tr>\n",
       "      <th>0</th>\n",
       "      <td>25</td>\n",
       "      <td>Private</td>\n",
       "      <td>226802</td>\n",
       "      <td>11th</td>\n",
       "      <td>7</td>\n",
       "      <td>Never-married</td>\n",
       "      <td>Machine-op-inspct</td>\n",
       "      <td>Own-child</td>\n",
       "      <td>Black</td>\n",
       "      <td>Male</td>\n",
       "      <td>0</td>\n",
       "      <td>0</td>\n",
       "      <td>40</td>\n",
       "      <td>United-States</td>\n",
       "      <td>&lt;=50K</td>\n",
       "    </tr>\n",
       "    <tr>\n",
       "      <th>1</th>\n",
       "      <td>38</td>\n",
       "      <td>Private</td>\n",
       "      <td>89814</td>\n",
       "      <td>HS-grad</td>\n",
       "      <td>9</td>\n",
       "      <td>Married-civ-spouse</td>\n",
       "      <td>Farming-fishing</td>\n",
       "      <td>Husband</td>\n",
       "      <td>White</td>\n",
       "      <td>Male</td>\n",
       "      <td>0</td>\n",
       "      <td>0</td>\n",
       "      <td>50</td>\n",
       "      <td>United-States</td>\n",
       "      <td>&lt;=50K</td>\n",
       "    </tr>\n",
       "    <tr>\n",
       "      <th>2</th>\n",
       "      <td>28</td>\n",
       "      <td>Local-gov</td>\n",
       "      <td>336951</td>\n",
       "      <td>Assoc-acdm</td>\n",
       "      <td>12</td>\n",
       "      <td>Married-civ-spouse</td>\n",
       "      <td>Protective-serv</td>\n",
       "      <td>Husband</td>\n",
       "      <td>White</td>\n",
       "      <td>Male</td>\n",
       "      <td>0</td>\n",
       "      <td>0</td>\n",
       "      <td>40</td>\n",
       "      <td>United-States</td>\n",
       "      <td>&gt;50K</td>\n",
       "    </tr>\n",
       "    <tr>\n",
       "      <th>3</th>\n",
       "      <td>44</td>\n",
       "      <td>Private</td>\n",
       "      <td>160323</td>\n",
       "      <td>Some-college</td>\n",
       "      <td>10</td>\n",
       "      <td>Married-civ-spouse</td>\n",
       "      <td>Machine-op-inspct</td>\n",
       "      <td>Husband</td>\n",
       "      <td>Black</td>\n",
       "      <td>Male</td>\n",
       "      <td>7688</td>\n",
       "      <td>0</td>\n",
       "      <td>40</td>\n",
       "      <td>United-States</td>\n",
       "      <td>&gt;50K</td>\n",
       "    </tr>\n",
       "    <tr>\n",
       "      <th>4</th>\n",
       "      <td>18</td>\n",
       "      <td>NaN</td>\n",
       "      <td>103497</td>\n",
       "      <td>Some-college</td>\n",
       "      <td>10</td>\n",
       "      <td>Never-married</td>\n",
       "      <td>NaN</td>\n",
       "      <td>Own-child</td>\n",
       "      <td>White</td>\n",
       "      <td>Female</td>\n",
       "      <td>0</td>\n",
       "      <td>0</td>\n",
       "      <td>30</td>\n",
       "      <td>United-States</td>\n",
       "      <td>&lt;=50K</td>\n",
       "    </tr>\n",
       "  </tbody>\n",
       "</table>\n",
       "</div>"
      ],
      "text/plain": [
       "   age  workclass  fnlwgt     education  educational-num      marital-status  \\\n",
       "0   25    Private  226802          11th                7       Never-married   \n",
       "1   38    Private   89814       HS-grad                9  Married-civ-spouse   \n",
       "2   28  Local-gov  336951    Assoc-acdm               12  Married-civ-spouse   \n",
       "3   44    Private  160323  Some-college               10  Married-civ-spouse   \n",
       "4   18        NaN  103497  Some-college               10       Never-married   \n",
       "\n",
       "          occupation relationship   race  gender  capital-gain  capital-loss  \\\n",
       "0  Machine-op-inspct    Own-child  Black    Male             0             0   \n",
       "1    Farming-fishing      Husband  White    Male             0             0   \n",
       "2    Protective-serv      Husband  White    Male             0             0   \n",
       "3  Machine-op-inspct      Husband  Black    Male          7688             0   \n",
       "4                NaN    Own-child  White  Female             0             0   \n",
       "\n",
       "   hours-per-week native-country income  \n",
       "0              40  United-States  <=50K  \n",
       "1              50  United-States  <=50K  \n",
       "2              40  United-States   >50K  \n",
       "3              40  United-States   >50K  \n",
       "4              30  United-States  <=50K  "
      ]
     },
     "execution_count": 17,
     "metadata": {},
     "output_type": "execute_result"
    }
   ],
   "source": [
    "data.head()"
   ]
  },
  {
   "cell_type": "code",
   "execution_count": 18,
   "metadata": {
    "colab": {
     "base_uri": "https://localhost:8080/",
     "height": 400
    },
    "id": "CicqiXZPHICu",
    "outputId": "189ce5da-15e6-402a-d091-eb080a0f9cb7"
   },
   "outputs": [
    {
     "data": {
      "text/html": [
       "<div>\n",
       "<style scoped>\n",
       "    .dataframe tbody tr th:only-of-type {\n",
       "        vertical-align: middle;\n",
       "    }\n",
       "\n",
       "    .dataframe tbody tr th {\n",
       "        vertical-align: top;\n",
       "    }\n",
       "\n",
       "    .dataframe thead th {\n",
       "        text-align: right;\n",
       "    }\n",
       "</style>\n",
       "<table border=\"1\" class=\"dataframe\">\n",
       "  <thead>\n",
       "    <tr style=\"text-align: right;\">\n",
       "      <th></th>\n",
       "      <th>age</th>\n",
       "      <th>workclass</th>\n",
       "      <th>fnlwgt</th>\n",
       "      <th>education</th>\n",
       "      <th>educational-num</th>\n",
       "      <th>marital-status</th>\n",
       "      <th>occupation</th>\n",
       "      <th>relationship</th>\n",
       "      <th>race</th>\n",
       "      <th>gender</th>\n",
       "      <th>capital-gain</th>\n",
       "      <th>capital-loss</th>\n",
       "      <th>hours-per-week</th>\n",
       "      <th>native-country</th>\n",
       "      <th>income</th>\n",
       "    </tr>\n",
       "  </thead>\n",
       "  <tbody>\n",
       "    <tr>\n",
       "      <th>48837</th>\n",
       "      <td>27</td>\n",
       "      <td>Private</td>\n",
       "      <td>257302</td>\n",
       "      <td>Assoc-acdm</td>\n",
       "      <td>12</td>\n",
       "      <td>Married-civ-spouse</td>\n",
       "      <td>Tech-support</td>\n",
       "      <td>Wife</td>\n",
       "      <td>White</td>\n",
       "      <td>Female</td>\n",
       "      <td>0</td>\n",
       "      <td>0</td>\n",
       "      <td>38</td>\n",
       "      <td>United-States</td>\n",
       "      <td>&lt;=50K</td>\n",
       "    </tr>\n",
       "    <tr>\n",
       "      <th>48838</th>\n",
       "      <td>40</td>\n",
       "      <td>Private</td>\n",
       "      <td>154374</td>\n",
       "      <td>HS-grad</td>\n",
       "      <td>9</td>\n",
       "      <td>Married-civ-spouse</td>\n",
       "      <td>Machine-op-inspct</td>\n",
       "      <td>Husband</td>\n",
       "      <td>White</td>\n",
       "      <td>Male</td>\n",
       "      <td>0</td>\n",
       "      <td>0</td>\n",
       "      <td>40</td>\n",
       "      <td>United-States</td>\n",
       "      <td>&gt;50K</td>\n",
       "    </tr>\n",
       "    <tr>\n",
       "      <th>48839</th>\n",
       "      <td>58</td>\n",
       "      <td>Private</td>\n",
       "      <td>151910</td>\n",
       "      <td>HS-grad</td>\n",
       "      <td>9</td>\n",
       "      <td>Widowed</td>\n",
       "      <td>Adm-clerical</td>\n",
       "      <td>Unmarried</td>\n",
       "      <td>White</td>\n",
       "      <td>Female</td>\n",
       "      <td>0</td>\n",
       "      <td>0</td>\n",
       "      <td>40</td>\n",
       "      <td>United-States</td>\n",
       "      <td>&lt;=50K</td>\n",
       "    </tr>\n",
       "    <tr>\n",
       "      <th>48840</th>\n",
       "      <td>22</td>\n",
       "      <td>Private</td>\n",
       "      <td>201490</td>\n",
       "      <td>HS-grad</td>\n",
       "      <td>9</td>\n",
       "      <td>Never-married</td>\n",
       "      <td>Adm-clerical</td>\n",
       "      <td>Own-child</td>\n",
       "      <td>White</td>\n",
       "      <td>Male</td>\n",
       "      <td>0</td>\n",
       "      <td>0</td>\n",
       "      <td>20</td>\n",
       "      <td>United-States</td>\n",
       "      <td>&lt;=50K</td>\n",
       "    </tr>\n",
       "    <tr>\n",
       "      <th>48841</th>\n",
       "      <td>52</td>\n",
       "      <td>Self-emp-inc</td>\n",
       "      <td>287927</td>\n",
       "      <td>HS-grad</td>\n",
       "      <td>9</td>\n",
       "      <td>Married-civ-spouse</td>\n",
       "      <td>Exec-managerial</td>\n",
       "      <td>Wife</td>\n",
       "      <td>White</td>\n",
       "      <td>Female</td>\n",
       "      <td>15024</td>\n",
       "      <td>0</td>\n",
       "      <td>40</td>\n",
       "      <td>United-States</td>\n",
       "      <td>&gt;50K</td>\n",
       "    </tr>\n",
       "  </tbody>\n",
       "</table>\n",
       "</div>"
      ],
      "text/plain": [
       "       age     workclass  fnlwgt   education  educational-num  \\\n",
       "48837   27       Private  257302  Assoc-acdm               12   \n",
       "48838   40       Private  154374     HS-grad                9   \n",
       "48839   58       Private  151910     HS-grad                9   \n",
       "48840   22       Private  201490     HS-grad                9   \n",
       "48841   52  Self-emp-inc  287927     HS-grad                9   \n",
       "\n",
       "           marital-status         occupation relationship   race  gender  \\\n",
       "48837  Married-civ-spouse       Tech-support         Wife  White  Female   \n",
       "48838  Married-civ-spouse  Machine-op-inspct      Husband  White    Male   \n",
       "48839             Widowed       Adm-clerical    Unmarried  White  Female   \n",
       "48840       Never-married       Adm-clerical    Own-child  White    Male   \n",
       "48841  Married-civ-spouse    Exec-managerial         Wife  White  Female   \n",
       "\n",
       "       capital-gain  capital-loss  hours-per-week native-country income  \n",
       "48837             0             0              38  United-States  <=50K  \n",
       "48838             0             0              40  United-States   >50K  \n",
       "48839             0             0              40  United-States  <=50K  \n",
       "48840             0             0              20  United-States  <=50K  \n",
       "48841         15024             0              40  United-States   >50K  "
      ]
     },
     "execution_count": 18,
     "metadata": {},
     "output_type": "execute_result"
    }
   ],
   "source": [
    "data.tail()"
   ]
  },
  {
   "cell_type": "markdown",
   "metadata": {
    "id": "F5PAgmxjtAL3"
   },
   "source": [
    "De cara, é possível perceber que, apesar de não estar registrada a ocorrência de dados faltantes, há, na linha 4, um ponto de interrogação como resposta para a classe do trabalhador em questão. Além disso, vê-se também uma certa imprecisão em algumas respostas da feature *education*, algumas respostas estão num padrão e outras em outro.\n",
    "Por fim, com essas saídas do programa, já temos conhecimento suficiente para afirmar como estão organizadas as informações e quais delas seriam interessantes manter ou retirar."
   ]
  },
  {
   "cell_type": "markdown",
   "metadata": {
    "id": "_qexxpEhzJze"
   },
   "source": [
    "###Series\n",
    "O comando Series do Pandas é extremamente importante pois permite uma visualização de todo o dataset de maneira mais concisa em um vetor de uma única dimensão, facilitando o trabalho de edição e, quando necessário, o de observação do próprio dataset."
   ]
  },
  {
   "cell_type": "markdown",
   "metadata": {
    "id": "Q_sDelen1PmQ"
   },
   "source": [
    "Com o comando `.head()`, vimos que há pelo menos um problema com a feature *worcklass*. Vamos analisar essa feature um pouco mais de perto para entender quais são todas as informações inseridas nesse tópico.\n",
    "\n",
    "Com o comando `.unique()`, conseguimos uma listagem simples, em uma única dimensão, de todas as respostas que estão presentes no dataset."
   ]
  },
  {
   "cell_type": "code",
   "execution_count": 19,
   "metadata": {
    "colab": {
     "base_uri": "https://localhost:8080/"
    },
    "id": "eq0N1oupHKr7",
    "outputId": "3d39f934-a60a-4f77-e7c9-03206a22ceb3"
   },
   "outputs": [
    {
     "data": {
      "text/plain": [
       "0             Private\n",
       "1           Local-gov\n",
       "2                 NaN\n",
       "3    Self-emp-not-inc\n",
       "4         Federal-gov\n",
       "5           State-gov\n",
       "6        Self-emp-inc\n",
       "7         Without-pay\n",
       "8        Never-worked\n",
       "dtype: object"
      ]
     },
     "execution_count": 19,
     "metadata": {},
     "output_type": "execute_result"
    }
   ],
   "source": [
    "pd.Series(data['workclass'].unique())"
   ]
  },
  {
   "cell_type": "code",
   "execution_count": 20,
   "metadata": {
    "colab": {
     "base_uri": "https://localhost:8080/"
    },
    "id": "oyOSnfL85v0-",
    "outputId": "3bf9ef71-798b-4c39-d04b-58e42418b3e0"
   },
   "outputs": [
    {
     "data": {
      "text/plain": [
       "0             11th\n",
       "1          HS-grad\n",
       "2       Assoc-acdm\n",
       "3     Some-college\n",
       "4             10th\n",
       "5      Prof-school\n",
       "6          7th-8th\n",
       "7        Bachelors\n",
       "8          Masters\n",
       "9        Doctorate\n",
       "10         5th-6th\n",
       "11       Assoc-voc\n",
       "12             9th\n",
       "13            12th\n",
       "14         1st-4th\n",
       "15       Preschool\n",
       "dtype: object"
      ]
     },
     "execution_count": 20,
     "metadata": {},
     "output_type": "execute_result"
    }
   ],
   "source": [
    "pd.Series(data.education.unique())"
   ]
  },
  {
   "cell_type": "code",
   "execution_count": 21,
   "metadata": {
    "colab": {
     "base_uri": "https://localhost:8080/"
    },
    "id": "c86u1Etq53cU",
    "outputId": "c94e2df7-ea3f-4a79-885e-ee18289d443d"
   },
   "outputs": [
    {
     "data": {
      "text/plain": [
       "0            Never-married\n",
       "1       Married-civ-spouse\n",
       "2                  Widowed\n",
       "3                 Divorced\n",
       "4                Separated\n",
       "5    Married-spouse-absent\n",
       "6        Married-AF-spouse\n",
       "dtype: object"
      ]
     },
     "execution_count": 21,
     "metadata": {},
     "output_type": "execute_result"
    }
   ],
   "source": [
    "pd.Series(data[\"marital-status\"].unique())"
   ]
  },
  {
   "cell_type": "code",
   "execution_count": 22,
   "metadata": {
    "colab": {
     "base_uri": "https://localhost:8080/"
    },
    "id": "QWkpmwiw6LdQ",
    "outputId": "dcf2b1bd-21b4-46fc-bb69-4b9356231669"
   },
   "outputs": [
    {
     "data": {
      "text/plain": [
       "0                  United-States\n",
       "1                            NaN\n",
       "2                           Peru\n",
       "3                      Guatemala\n",
       "4                         Mexico\n",
       "5             Dominican-Republic\n",
       "6                        Ireland\n",
       "7                        Germany\n",
       "8                    Philippines\n",
       "9                       Thailand\n",
       "10                         Haiti\n",
       "11                   El-Salvador\n",
       "12                   Puerto-Rico\n",
       "13                       Vietnam\n",
       "14                         South\n",
       "15                      Columbia\n",
       "16                         Japan\n",
       "17                         India\n",
       "18                      Cambodia\n",
       "19                        Poland\n",
       "20                          Laos\n",
       "21                       England\n",
       "22                          Cuba\n",
       "23                        Taiwan\n",
       "24                         Italy\n",
       "25                        Canada\n",
       "26                      Portugal\n",
       "27                         China\n",
       "28                     Nicaragua\n",
       "29                      Honduras\n",
       "30                          Iran\n",
       "31                      Scotland\n",
       "32                       Jamaica\n",
       "33                       Ecuador\n",
       "34                    Yugoslavia\n",
       "35                       Hungary\n",
       "36                          Hong\n",
       "37                        Greece\n",
       "38               Trinadad&Tobago\n",
       "39    Outlying-US(Guam-USVI-etc)\n",
       "40                        France\n",
       "41            Holand-Netherlands\n",
       "dtype: object"
      ]
     },
     "execution_count": 22,
     "metadata": {},
     "output_type": "execute_result"
    }
   ],
   "source": [
    "pd.Series(data['native-country'].unique())"
   ]
  },
  {
   "cell_type": "code",
   "execution_count": 23,
   "metadata": {
    "colab": {
     "base_uri": "https://localhost:8080/"
    },
    "id": "QC6sqRUG6W_U",
    "outputId": "399d9000-0794-47da-90b8-8158b8445985"
   },
   "outputs": [
    {
     "data": {
      "text/plain": [
       "857"
      ]
     },
     "execution_count": 23,
     "metadata": {},
     "output_type": "execute_result"
    }
   ],
   "source": [
    "data['native-country'].isna().sum()"
   ]
  },
  {
   "cell_type": "code",
   "execution_count": 24,
   "metadata": {
    "colab": {
     "base_uri": "https://localhost:8080/"
    },
    "id": "pcNeOgSCYicZ",
    "outputId": "5fbc5b5e-680a-4346-cb1d-1667352e47be"
   },
   "outputs": [
    {
     "data": {
      "text/plain": [
       "0    United-States\n",
       "Name: native-country, dtype: object"
      ]
     },
     "execution_count": 24,
     "metadata": {},
     "output_type": "execute_result"
    }
   ],
   "source": [
    "data['native-country'].mode()"
   ]
  },
  {
   "cell_type": "code",
   "execution_count": 25,
   "metadata": {
    "colab": {
     "base_uri": "https://localhost:8080/"
    },
    "id": "oKrEU2tf2IOT",
    "outputId": "df7fb8b5-6fcd-4325-fec6-512e1496db45"
   },
   "outputs": [
    {
     "data": {
      "text/plain": [
       "2799"
      ]
     },
     "execution_count": 25,
     "metadata": {},
     "output_type": "execute_result"
    }
   ],
   "source": [
    "data['workclass'].isna().sum()"
   ]
  },
  {
   "cell_type": "code",
   "execution_count": 26,
   "metadata": {
    "id": "GyS1M7yzerPb"
   },
   "outputs": [],
   "source": [
    "data['workclass'].dropna(inplace = True)"
   ]
  },
  {
   "cell_type": "code",
   "execution_count": 27,
   "metadata": {
    "colab": {
     "base_uri": "https://localhost:8080/"
    },
    "id": "M866hXh1c-Dw",
    "outputId": "90d2df5c-ee67-4767-abae-3d6d7c86506b"
   },
   "outputs": [
    {
     "data": {
      "text/plain": [
       "education\n",
       "Bachelors       210\n",
       "HS-grad         198\n",
       "Some-college    155\n",
       "Masters          78\n",
       "Doctorate        32\n",
       "Prof-school      26\n",
       "7th-8th          24\n",
       "Assoc-voc        23\n",
       "Assoc-acdm       22\n",
       "12th             22\n",
       "5th-6th          19\n",
       "10th             17\n",
       "11th             12\n",
       "9th              11\n",
       "1st-4th           7\n",
       "Preschool         1\n",
       "Name: count, dtype: int64"
      ]
     },
     "execution_count": 27,
     "metadata": {},
     "output_type": "execute_result"
    }
   ],
   "source": [
    "data.loc[data['native-country'].isna(), 'education'].value_counts()"
   ]
  },
  {
   "cell_type": "code",
   "execution_count": 28,
   "metadata": {
    "colab": {
     "base_uri": "https://localhost:8080/"
    },
    "id": "Ie3RvALidjgK",
    "outputId": "2a93f635-c10d-49f8-cdf7-3ea116555886"
   },
   "outputs": [
    {
     "data": {
      "text/plain": [
       "gender\n",
       "Male      9081\n",
       "Female    1613\n",
       "Name: count, dtype: int64"
      ]
     },
     "execution_count": 28,
     "metadata": {},
     "output_type": "execute_result"
    }
   ],
   "source": [
    "data.loc[(data['native-country'] == 'United-States') & (data['income'] == '>50K'), 'gender'].value_counts()"
   ]
  },
  {
   "cell_type": "code",
   "execution_count": 29,
   "metadata": {
    "colab": {
     "base_uri": "https://localhost:8080/",
     "height": 348
    },
    "id": "v7SKthICk23T",
    "outputId": "210b67af-6d66-419f-dd79-9cc39bd576ee"
   },
   "outputs": [
    {
     "data": {
      "text/html": [
       "<div>\n",
       "<style scoped>\n",
       "    .dataframe tbody tr th:only-of-type {\n",
       "        vertical-align: middle;\n",
       "    }\n",
       "\n",
       "    .dataframe tbody tr th {\n",
       "        vertical-align: top;\n",
       "    }\n",
       "\n",
       "    .dataframe thead th {\n",
       "        text-align: right;\n",
       "    }\n",
       "</style>\n",
       "<table border=\"1\" class=\"dataframe\">\n",
       "  <thead>\n",
       "    <tr style=\"text-align: right;\">\n",
       "      <th></th>\n",
       "      <th>age</th>\n",
       "      <th>workclass</th>\n",
       "      <th>fnlwgt</th>\n",
       "      <th>education</th>\n",
       "      <th>educational-num</th>\n",
       "      <th>marital-status</th>\n",
       "      <th>occupation</th>\n",
       "      <th>relationship</th>\n",
       "      <th>race</th>\n",
       "      <th>gender</th>\n",
       "      <th>capital-gain</th>\n",
       "      <th>capital-loss</th>\n",
       "      <th>hours-per-week</th>\n",
       "      <th>native-country</th>\n",
       "      <th>income</th>\n",
       "    </tr>\n",
       "  </thead>\n",
       "  <tbody>\n",
       "    <tr>\n",
       "      <th>4</th>\n",
       "      <td>18</td>\n",
       "      <td>NaN</td>\n",
       "      <td>103497</td>\n",
       "      <td>Some-college</td>\n",
       "      <td>10</td>\n",
       "      <td>Never-married</td>\n",
       "      <td>NaN</td>\n",
       "      <td>Own-child</td>\n",
       "      <td>White</td>\n",
       "      <td>Female</td>\n",
       "      <td>0</td>\n",
       "      <td>0</td>\n",
       "      <td>30</td>\n",
       "      <td>United-States</td>\n",
       "      <td>&lt;=50K</td>\n",
       "    </tr>\n",
       "    <tr>\n",
       "      <th>38</th>\n",
       "      <td>17</td>\n",
       "      <td>Private</td>\n",
       "      <td>269430</td>\n",
       "      <td>10th</td>\n",
       "      <td>6</td>\n",
       "      <td>Never-married</td>\n",
       "      <td>Machine-op-inspct</td>\n",
       "      <td>Not-in-family</td>\n",
       "      <td>White</td>\n",
       "      <td>Male</td>\n",
       "      <td>0</td>\n",
       "      <td>0</td>\n",
       "      <td>40</td>\n",
       "      <td>United-States</td>\n",
       "      <td>&lt;=50K</td>\n",
       "    </tr>\n",
       "    <tr>\n",
       "      <th>50</th>\n",
       "      <td>18</td>\n",
       "      <td>Private</td>\n",
       "      <td>54440</td>\n",
       "      <td>Some-college</td>\n",
       "      <td>10</td>\n",
       "      <td>Never-married</td>\n",
       "      <td>Other-service</td>\n",
       "      <td>Own-child</td>\n",
       "      <td>White</td>\n",
       "      <td>Male</td>\n",
       "      <td>0</td>\n",
       "      <td>0</td>\n",
       "      <td>20</td>\n",
       "      <td>United-States</td>\n",
       "      <td>&lt;=50K</td>\n",
       "    </tr>\n",
       "    <tr>\n",
       "      <th>67</th>\n",
       "      <td>19</td>\n",
       "      <td>Private</td>\n",
       "      <td>105460</td>\n",
       "      <td>Some-college</td>\n",
       "      <td>10</td>\n",
       "      <td>Never-married</td>\n",
       "      <td>Other-service</td>\n",
       "      <td>Own-child</td>\n",
       "      <td>White</td>\n",
       "      <td>Male</td>\n",
       "      <td>0</td>\n",
       "      <td>0</td>\n",
       "      <td>20</td>\n",
       "      <td>United-States</td>\n",
       "      <td>&lt;=50K</td>\n",
       "    </tr>\n",
       "    <tr>\n",
       "      <th>75</th>\n",
       "      <td>17</td>\n",
       "      <td>NaN</td>\n",
       "      <td>165361</td>\n",
       "      <td>10th</td>\n",
       "      <td>6</td>\n",
       "      <td>Never-married</td>\n",
       "      <td>NaN</td>\n",
       "      <td>Own-child</td>\n",
       "      <td>White</td>\n",
       "      <td>Male</td>\n",
       "      <td>0</td>\n",
       "      <td>0</td>\n",
       "      <td>40</td>\n",
       "      <td>United-States</td>\n",
       "      <td>&lt;=50K</td>\n",
       "    </tr>\n",
       "  </tbody>\n",
       "</table>\n",
       "</div>"
      ],
      "text/plain": [
       "    age workclass  fnlwgt     education  educational-num marital-status  \\\n",
       "4    18       NaN  103497  Some-college               10  Never-married   \n",
       "38   17   Private  269430          10th                6  Never-married   \n",
       "50   18   Private   54440  Some-college               10  Never-married   \n",
       "67   19   Private  105460  Some-college               10  Never-married   \n",
       "75   17       NaN  165361          10th                6  Never-married   \n",
       "\n",
       "           occupation   relationship   race  gender  capital-gain  \\\n",
       "4                 NaN      Own-child  White  Female             0   \n",
       "38  Machine-op-inspct  Not-in-family  White    Male             0   \n",
       "50      Other-service      Own-child  White    Male             0   \n",
       "67      Other-service      Own-child  White    Male             0   \n",
       "75                NaN      Own-child  White    Male             0   \n",
       "\n",
       "    capital-loss  hours-per-week native-country income  \n",
       "4              0              30  United-States  <=50K  \n",
       "38             0              40  United-States  <=50K  \n",
       "50             0              20  United-States  <=50K  \n",
       "67             0              20  United-States  <=50K  \n",
       "75             0              40  United-States  <=50K  "
      ]
     },
     "execution_count": 29,
     "metadata": {},
     "output_type": "execute_result"
    }
   ],
   "source": [
    "data[(data['age'] >= 80) | (data['age'] < 20)].head()"
   ]
  },
  {
   "cell_type": "code",
   "execution_count": 30,
   "metadata": {
    "colab": {
     "base_uri": "https://localhost:8080/"
    },
    "id": "DgYNiUYAlTXm",
    "outputId": "da49e335-4725-446c-e468-3ea2ff0f278e"
   },
   "outputs": [
    {
     "name": "stdout",
     "output_type": "stream",
     "text": [
      "Pessoas com etnia diferente de 'Black' e 'White' que têm renda maior que 50K\n"
     ]
    },
    {
     "data": {
      "text/plain": [
       "gender  is_from_us\n",
       "Male    False         274\n",
       "        True          145\n",
       "Female  False          54\n",
       "        True           41\n",
       "Name: count, dtype: int64"
      ]
     },
     "execution_count": 30,
     "metadata": {},
     "output_type": "execute_result"
    }
   ],
   "source": [
    "print(\"Pessoas com etnia diferente de 'Black' e 'White' que têm renda maior que 50K\")\n",
    "\n",
    "data_cp = data.copy()\n",
    "data_cp['is_from_us'] = data_cp['native-country'] == 'United-States'\n",
    "data_cp.loc[(~data_cp['race'].isin(['Black', 'White'])) & (data['income'] == '>50K'), ['gender', 'is_from_us']].value_counts()"
   ]
  },
  {
   "cell_type": "markdown",
   "metadata": {
    "id": "I4KtJX7Y5OFS"
   },
   "source": [
    "A única entrada incoerente realmente é a inclusão do *?* como resposta para o tipo de trabalho, e há uma quantidade bem significativa de entrada desse tipo, 2799 entradas, representando 5% do dataset."
   ]
  },
  {
   "cell_type": "code",
   "execution_count": 31,
   "metadata": {
    "colab": {
     "base_uri": "https://localhost:8080/"
    },
    "id": "gtEmzhJ32ir7",
    "outputId": "c3682534-bfff-44cc-8f9d-aa664be19ca5"
   },
   "outputs": [
    {
     "name": "stdout",
     "output_type": "stream",
     "text": [
      "Setor Private, quantidade de entradas = 33906\n",
      "Setor Local-gov, quantidade de entradas = 3136\n",
      "Setor nan, quantidade de entradas = 0\n",
      "Setor Self-emp-not-inc, quantidade de entradas = 3862\n",
      "Setor Federal-gov, quantidade de entradas = 1432\n",
      "Setor State-gov, quantidade de entradas = 1981\n",
      "Setor Self-emp-inc, quantidade de entradas = 1695\n",
      "Setor Without-pay, quantidade de entradas = 21\n",
      "Setor Never-worked, quantidade de entradas = 10\n"
     ]
    }
   ],
   "source": [
    "setores = pd.Series(data['workclass'].unique())\n",
    "\n",
    "for i in setores:\n",
    "  print(\"Setor {}, quantidade de entradas = {}\".format(i, data.workclass[data['workclass'] == i].count()))"
   ]
  },
  {
   "cell_type": "code",
   "execution_count": 32,
   "metadata": {
    "colab": {
     "base_uri": "https://localhost:8080/"
    },
    "id": "n4yoK-tuVFvs",
    "outputId": "0526fead-b2f8-4f5f-c4c0-a862cbc50370"
   },
   "outputs": [
    {
     "data": {
      "text/plain": [
       "workclass\n",
       "Never-worked           10\n",
       "Without-pay            21\n",
       "Federal-gov          1432\n",
       "Self-emp-inc         1695\n",
       "State-gov            1981\n",
       "Local-gov            3136\n",
       "Self-emp-not-inc     3862\n",
       "Private             33906\n",
       "Name: count, dtype: int64"
      ]
     },
     "execution_count": 32,
     "metadata": {},
     "output_type": "execute_result"
    }
   ],
   "source": [
    "data.groupby('workclass')['workclass'].value_counts().sort_values()"
   ]
  }
 ],
 "metadata": {
  "colab": {
   "provenance": []
  },
  "kernelspec": {
   "display_name": "Python 3 (ipykernel)",
   "language": "python",
   "name": "python3"
  },
  "language_info": {
   "codemirror_mode": {
    "name": "ipython",
    "version": 3
   },
   "file_extension": ".py",
   "mimetype": "text/x-python",
   "name": "python",
   "nbconvert_exporter": "python",
   "pygments_lexer": "ipython3",
   "version": "3.10.12"
  }
 },
 "nbformat": 4,
 "nbformat_minor": 4
}
