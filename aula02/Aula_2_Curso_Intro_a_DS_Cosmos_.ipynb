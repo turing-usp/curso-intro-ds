{
 "cells": [
  {
   "cell_type": "markdown",
   "id": "d62049c7-4e94-4b34-ac70-b74ba328127d",
   "metadata": {},
   "source": [
    "## Análise e limpeza de dados"
   ]
  },
  {
   "cell_type": "markdown",
   "id": "2846a40e-3786-49a5-8429-66bd11206a28",
   "metadata": {},
   "source": [
    "Nesse notebook, iremos abordar conceitos de limpeza de dados enquanto nos aprofundamos no uso da biblioteca Pandas, que foi introduzida na aula passada"
   ]
  },
  {
   "cell_type": "markdown",
   "id": "59a81c5a-543f-4e26-b61b-80344d231365",
   "metadata": {},
   "source": [
    "O _dataset_ que iremos utilizar é um conjunto de dados contendo informações a respeito de diversos funcionários em uma determinada empresa. O objetivo dele é a construção de um modelo (assunto visto na última aula) para prever se os funcionários serão ou não promovidos."
   ]
  },
  {
   "cell_type": "markdown",
   "id": "625c5cf6-7586-48f7-a4a4-4c6b5d0407b6",
   "metadata": {},
   "source": [
    "Ele foi obtido no [Kaggle](https://www.kaggle.com/datasets/arashnic/hr-ana?select=test.csv) e conta com as seguintes informações:\n",
    "\n",
    "- **employee_id**: identificação do funcionário\n",
    "- **department**: departamento do funcionário\n",
    "- **region**: região na qual o funcionário trabalha\n",
    "- **education**: nível educacional do funcionário\n",
    "- **gender**: gênero do funcionário\n",
    "- **recruitment_channel**: canal a partir do qual o funcionário foi contratado\n",
    "- **no_of_trainings**: quantidade de treinamento (cursos) que foram realizados pelo funcionário no último ano, incluindo _soft_ e _hard_ skills.\n",
    "- **age**: idade do funcionário\n",
    "- **previous_year_rating**: avaliação do funcionário no último ano\n",
    "- **length_of_service**: quantidade de tempo de trabalho do funcionário (anos)\n",
    "- **awards_won?**: indica se o funcionário ganhou (1) ou não (0) premiações no último ano\n",
    "- **avg_training_score**: pontuação média nos últimos treinamentos realizados \n",
    "- **is_promoted**: Indica se o funcionário é (1) ou não (0) recomendado para promoção\n"
   ]
  },
  {
   "cell_type": "code",
   "execution_count": 2,
   "id": "a7b178de-a475-45e6-9c7f-0a8c1fcaf155",
   "metadata": {},
   "outputs": [],
   "source": [
    "import pandas as pd"
   ]
  },
  {
   "cell_type": "code",
   "execution_count": 3,
   "id": "c9c1f101-b19c-4e15-84c8-71353a59a9b0",
   "metadata": {},
   "outputs": [],
   "source": [
    "promotion = pd.read_csv(\"./promotion.csv\")"
   ]
  },
  {
   "cell_type": "code",
   "execution_count": 4,
   "id": "b2355ed0-b785-4916-b186-08a7c426acfe",
   "metadata": {},
   "outputs": [
    {
     "data": {
      "text/plain": [
       "(54808, 13)"
      ]
     },
     "execution_count": 4,
     "metadata": {},
     "output_type": "execute_result"
    }
   ],
   "source": [
    "promotion.shape"
   ]
  },
  {
   "cell_type": "code",
   "execution_count": 5,
   "id": "e95d0379-0c48-4a47-81f7-24b7b6a31e69",
   "metadata": {},
   "outputs": [
    {
     "name": "stdout",
     "output_type": "stream",
     "text": [
      "<class 'pandas.core.frame.DataFrame'>\n",
      "RangeIndex: 54808 entries, 0 to 54807\n",
      "Data columns (total 13 columns):\n",
      " #   Column                Non-Null Count  Dtype  \n",
      "---  ------                --------------  -----  \n",
      " 0   employee_id           54808 non-null  int64  \n",
      " 1   department            54808 non-null  object \n",
      " 2   region                54808 non-null  object \n",
      " 3   education             52399 non-null  object \n",
      " 4   gender                54808 non-null  object \n",
      " 5   recruitment_channel   54808 non-null  object \n",
      " 6   no_of_trainings       54808 non-null  int64  \n",
      " 7   age                   54808 non-null  int64  \n",
      " 8   previous_year_rating  50684 non-null  float64\n",
      " 9   length_of_service     54808 non-null  int64  \n",
      " 10  awards_won?           54808 non-null  int64  \n",
      " 11  avg_training_score    54808 non-null  int64  \n",
      " 12  is_promoted           54808 non-null  int64  \n",
      "dtypes: float64(1), int64(7), object(5)\n",
      "memory usage: 5.4+ MB\n"
     ]
    }
   ],
   "source": [
    "promotion.info()"
   ]
  },
  {
   "cell_type": "code",
   "execution_count": 7,
   "id": "d0e3aced-b9bb-46e5-847e-10ab896f9ff2",
   "metadata": {},
   "outputs": [
    {
     "data": {
      "text/html": [
       "<div>\n",
       "<style scoped>\n",
       "    .dataframe tbody tr th:only-of-type {\n",
       "        vertical-align: middle;\n",
       "    }\n",
       "\n",
       "    .dataframe tbody tr th {\n",
       "        vertical-align: top;\n",
       "    }\n",
       "\n",
       "    .dataframe thead th {\n",
       "        text-align: right;\n",
       "    }\n",
       "</style>\n",
       "<table border=\"1\" class=\"dataframe\">\n",
       "  <thead>\n",
       "    <tr style=\"text-align: right;\">\n",
       "      <th></th>\n",
       "      <th>count</th>\n",
       "      <th>mean</th>\n",
       "      <th>std</th>\n",
       "      <th>min</th>\n",
       "      <th>25%</th>\n",
       "      <th>50%</th>\n",
       "      <th>75%</th>\n",
       "      <th>max</th>\n",
       "    </tr>\n",
       "  </thead>\n",
       "  <tbody>\n",
       "    <tr>\n",
       "      <th>employee_id</th>\n",
       "      <td>54808.0</td>\n",
       "      <td>39195.830627</td>\n",
       "      <td>22586.581449</td>\n",
       "      <td>1.0</td>\n",
       "      <td>19669.75</td>\n",
       "      <td>39225.5</td>\n",
       "      <td>58730.5</td>\n",
       "      <td>78298.0</td>\n",
       "    </tr>\n",
       "    <tr>\n",
       "      <th>no_of_trainings</th>\n",
       "      <td>54808.0</td>\n",
       "      <td>1.253011</td>\n",
       "      <td>0.609264</td>\n",
       "      <td>1.0</td>\n",
       "      <td>1.00</td>\n",
       "      <td>1.0</td>\n",
       "      <td>1.0</td>\n",
       "      <td>10.0</td>\n",
       "    </tr>\n",
       "    <tr>\n",
       "      <th>age</th>\n",
       "      <td>54808.0</td>\n",
       "      <td>34.803915</td>\n",
       "      <td>7.660169</td>\n",
       "      <td>20.0</td>\n",
       "      <td>29.00</td>\n",
       "      <td>33.0</td>\n",
       "      <td>39.0</td>\n",
       "      <td>60.0</td>\n",
       "    </tr>\n",
       "    <tr>\n",
       "      <th>previous_year_rating</th>\n",
       "      <td>50684.0</td>\n",
       "      <td>3.329256</td>\n",
       "      <td>1.259993</td>\n",
       "      <td>1.0</td>\n",
       "      <td>3.00</td>\n",
       "      <td>3.0</td>\n",
       "      <td>4.0</td>\n",
       "      <td>5.0</td>\n",
       "    </tr>\n",
       "    <tr>\n",
       "      <th>length_of_service</th>\n",
       "      <td>54808.0</td>\n",
       "      <td>5.865512</td>\n",
       "      <td>4.265094</td>\n",
       "      <td>1.0</td>\n",
       "      <td>3.00</td>\n",
       "      <td>5.0</td>\n",
       "      <td>7.0</td>\n",
       "      <td>37.0</td>\n",
       "    </tr>\n",
       "    <tr>\n",
       "      <th>awards_won?</th>\n",
       "      <td>54808.0</td>\n",
       "      <td>0.023172</td>\n",
       "      <td>0.150450</td>\n",
       "      <td>0.0</td>\n",
       "      <td>0.00</td>\n",
       "      <td>0.0</td>\n",
       "      <td>0.0</td>\n",
       "      <td>1.0</td>\n",
       "    </tr>\n",
       "    <tr>\n",
       "      <th>avg_training_score</th>\n",
       "      <td>54808.0</td>\n",
       "      <td>63.386750</td>\n",
       "      <td>13.371559</td>\n",
       "      <td>39.0</td>\n",
       "      <td>51.00</td>\n",
       "      <td>60.0</td>\n",
       "      <td>76.0</td>\n",
       "      <td>99.0</td>\n",
       "    </tr>\n",
       "    <tr>\n",
       "      <th>is_promoted</th>\n",
       "      <td>54808.0</td>\n",
       "      <td>0.085170</td>\n",
       "      <td>0.279137</td>\n",
       "      <td>0.0</td>\n",
       "      <td>0.00</td>\n",
       "      <td>0.0</td>\n",
       "      <td>0.0</td>\n",
       "      <td>1.0</td>\n",
       "    </tr>\n",
       "  </tbody>\n",
       "</table>\n",
       "</div>"
      ],
      "text/plain": [
       "                        count          mean           std   min       25%  \\\n",
       "employee_id           54808.0  39195.830627  22586.581449   1.0  19669.75   \n",
       "no_of_trainings       54808.0      1.253011      0.609264   1.0      1.00   \n",
       "age                   54808.0     34.803915      7.660169  20.0     29.00   \n",
       "previous_year_rating  50684.0      3.329256      1.259993   1.0      3.00   \n",
       "length_of_service     54808.0      5.865512      4.265094   1.0      3.00   \n",
       "awards_won?           54808.0      0.023172      0.150450   0.0      0.00   \n",
       "avg_training_score    54808.0     63.386750     13.371559  39.0     51.00   \n",
       "is_promoted           54808.0      0.085170      0.279137   0.0      0.00   \n",
       "\n",
       "                          50%      75%      max  \n",
       "employee_id           39225.5  58730.5  78298.0  \n",
       "no_of_trainings           1.0      1.0     10.0  \n",
       "age                      33.0     39.0     60.0  \n",
       "previous_year_rating      3.0      4.0      5.0  \n",
       "length_of_service         5.0      7.0     37.0  \n",
       "awards_won?               0.0      0.0      1.0  \n",
       "avg_training_score       60.0     76.0     99.0  \n",
       "is_promoted               0.0      0.0      1.0  "
      ]
     },
     "execution_count": 7,
     "metadata": {},
     "output_type": "execute_result"
    }
   ],
   "source": [
    "promotion.describe().T"
   ]
  }
 ],
 "metadata": {
  "kernelspec": {
   "display_name": "Python 3 (ipykernel)",
   "language": "python",
   "name": "python3"
  },
  "language_info": {
   "codemirror_mode": {
    "name": "ipython",
    "version": 3
   },
   "file_extension": ".py",
   "mimetype": "text/x-python",
   "name": "python",
   "nbconvert_exporter": "python",
   "pygments_lexer": "ipython3",
   "version": "3.10.12"
  }
 },
 "nbformat": 4,
 "nbformat_minor": 5
}
