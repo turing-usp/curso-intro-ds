{
 "cells": [
  {
   "cell_type": "code",
   "execution_count": 3,
   "metadata": {
    "id": "NzGI1jicUD4x"
   },
   "outputs": [],
   "source": [
    "import pandas as pd"
   ]
  },
  {
   "cell_type": "code",
   "execution_count": 4,
   "metadata": {
    "id": "aqTfnA1eUODc"
   },
   "outputs": [],
   "source": [
    "df = pd.read_csv(\"./promotion.csv\")"
   ]
  },
  {
   "cell_type": "markdown",
   "metadata": {
    "id": "3aLPSjVzaF5e"
   },
   "source": [
    "## Conhecendo os dados"
   ]
  },
  {
   "cell_type": "markdown",
   "metadata": {
    "id": "-ygd4iFeaOQQ"
   },
   "source": [
    "Antes de iniciarmos a limpeza e o tratamento dos dados, é interessante que conheçamos os dados com os quais trabalharemos. Para isso, o primeiro passo é entender do que trata o dataset.\n",
    "<br>\n",
    "<br>\n",
    "No nosso caso, o dataset traz informações acerca da promoção no ambiente de trabalho. Em outras palavras, são usadas várias métricas (idade, desempenho, premiações) para verificar quais destas métricas influenciam na promoção e como se dá essa influência.\n",
    "<br>\n",
    "<br>\n",
    "Ainda, precisamos entender o significado de cada coluna:\n",
    "- employee_id: usado para atribuir um identificador único pra cada registro: cada linha deve ter um id diferente\n",
    "- department: o departamento em que cada pessoa entrevistada trabalha (dado qualitativo)\n",
    "- region: região em que a pessoa trabalha (dado qualitativo)\n",
    "- education: corresponde ao nível educacional, pode ser tratado como uma variável ordinal (do nível de menor educação ao de maior educação)\n",
    "- gender: gênero. Para este dataset em específico, foram considerados apenas masculino e feminino\n",
    "- recruitment_channel: forma que a pessoa foi contratada pela empresa\n",
    "- no_of_trainings: número de treinamentos realizados pela pessoa\n",
    "- previous_year_rating: avaliação do desempenho do(a) trabalhador(a) no ano anterior\n",
    "- age: idade\n",
    "- length_of_service: quanto tempo a pessoa está no cargo\n",
    "- awards_won?: variável binária que indica 0 quando o empregado não foi premiado e 1 quando foi premiado\n",
    "- avg_training_score: desempenho nos treinamentos\n",
    "- is_promoted: variável binária que indica 0 quando a pessoa não foi promovida e 1 quando a mesma é promovida"
   ]
  },
  {
   "cell_type": "markdown",
   "metadata": {
    "id": "B9xqcfePdgb2"
   },
   "source": [
    "### Observações Iniciais"
   ]
  },
  {
   "cell_type": "code",
   "execution_count": 5,
   "metadata": {
    "colab": {
     "base_uri": "https://localhost:8080/",
     "height": 469
    },
    "id": "IYNePrwTWQBj",
    "outputId": "c244a4cd-2cdf-4fb9-ccb7-b8ee2567e2cd"
   },
   "outputs": [
    {
     "data": {
      "text/html": [
       "<div>\n",
       "<style scoped>\n",
       "    .dataframe tbody tr th:only-of-type {\n",
       "        vertical-align: middle;\n",
       "    }\n",
       "\n",
       "    .dataframe tbody tr th {\n",
       "        vertical-align: top;\n",
       "    }\n",
       "\n",
       "    .dataframe thead th {\n",
       "        text-align: right;\n",
       "    }\n",
       "</style>\n",
       "<table border=\"1\" class=\"dataframe\">\n",
       "  <thead>\n",
       "    <tr style=\"text-align: right;\">\n",
       "      <th></th>\n",
       "      <th>employee_id</th>\n",
       "      <th>department</th>\n",
       "      <th>region</th>\n",
       "      <th>education</th>\n",
       "      <th>gender</th>\n",
       "      <th>recruitment_channel</th>\n",
       "      <th>no_of_trainings</th>\n",
       "      <th>age</th>\n",
       "      <th>previous_year_rating</th>\n",
       "      <th>length_of_service</th>\n",
       "      <th>awards_won?</th>\n",
       "      <th>avg_training_score</th>\n",
       "      <th>is_promoted</th>\n",
       "    </tr>\n",
       "  </thead>\n",
       "  <tbody>\n",
       "    <tr>\n",
       "      <th>0</th>\n",
       "      <td>65438</td>\n",
       "      <td>Sales &amp; Marketing</td>\n",
       "      <td>NaN</td>\n",
       "      <td>Master's &amp; above</td>\n",
       "      <td>f</td>\n",
       "      <td>sourcin</td>\n",
       "      <td>1</td>\n",
       "      <td>147</td>\n",
       "      <td>5.0</td>\n",
       "      <td>8</td>\n",
       "      <td>0</td>\n",
       "      <td>49</td>\n",
       "      <td>Yes</td>\n",
       "    </tr>\n",
       "    <tr>\n",
       "      <th>1</th>\n",
       "      <td>65141</td>\n",
       "      <td>Operations</td>\n",
       "      <td>region_22</td>\n",
       "      <td>Bachelor's</td>\n",
       "      <td>m</td>\n",
       "      <td>other</td>\n",
       "      <td>1</td>\n",
       "      <td>30</td>\n",
       "      <td>5.0</td>\n",
       "      <td>4</td>\n",
       "      <td>0</td>\n",
       "      <td>60</td>\n",
       "      <td>0</td>\n",
       "    </tr>\n",
       "    <tr>\n",
       "      <th>2</th>\n",
       "      <td>7513</td>\n",
       "      <td>Sales &amp; Marketing</td>\n",
       "      <td>region_19</td>\n",
       "      <td>Bachelor's</td>\n",
       "      <td>m</td>\n",
       "      <td>sourcing</td>\n",
       "      <td>1</td>\n",
       "      <td>34</td>\n",
       "      <td>3.0</td>\n",
       "      <td>7</td>\n",
       "      <td>0</td>\n",
       "      <td>50</td>\n",
       "      <td>0</td>\n",
       "    </tr>\n",
       "    <tr>\n",
       "      <th>3</th>\n",
       "      <td>2542</td>\n",
       "      <td>Sales &amp; Marketing</td>\n",
       "      <td>region_23</td>\n",
       "      <td>Bachelor's</td>\n",
       "      <td>m</td>\n",
       "      <td>other</td>\n",
       "      <td>2</td>\n",
       "      <td>39</td>\n",
       "      <td>1.0</td>\n",
       "      <td>10</td>\n",
       "      <td>0</td>\n",
       "      <td>50</td>\n",
       "      <td>0</td>\n",
       "    </tr>\n",
       "    <tr>\n",
       "      <th>4</th>\n",
       "      <td>48945</td>\n",
       "      <td>Technology</td>\n",
       "      <td>region_26</td>\n",
       "      <td>Bachelor's</td>\n",
       "      <td>m</td>\n",
       "      <td>other</td>\n",
       "      <td>1</td>\n",
       "      <td>45</td>\n",
       "      <td>3.0</td>\n",
       "      <td>2</td>\n",
       "      <td>0</td>\n",
       "      <td>73</td>\n",
       "      <td>0</td>\n",
       "    </tr>\n",
       "    <tr>\n",
       "      <th>5</th>\n",
       "      <td>58896</td>\n",
       "      <td>Analytics</td>\n",
       "      <td>region_2</td>\n",
       "      <td>Bachelor's</td>\n",
       "      <td>m</td>\n",
       "      <td>sourcing</td>\n",
       "      <td>2</td>\n",
       "      <td>31</td>\n",
       "      <td>3.0</td>\n",
       "      <td>7</td>\n",
       "      <td>0</td>\n",
       "      <td>85</td>\n",
       "      <td>0</td>\n",
       "    </tr>\n",
       "    <tr>\n",
       "      <th>6</th>\n",
       "      <td>20379</td>\n",
       "      <td>Operations</td>\n",
       "      <td>region_20</td>\n",
       "      <td>Bachelor's</td>\n",
       "      <td>f</td>\n",
       "      <td>other</td>\n",
       "      <td>1</td>\n",
       "      <td>31</td>\n",
       "      <td>3.0</td>\n",
       "      <td>5</td>\n",
       "      <td>0</td>\n",
       "      <td>59</td>\n",
       "      <td>0</td>\n",
       "    </tr>\n",
       "    <tr>\n",
       "      <th>7</th>\n",
       "      <td>16290</td>\n",
       "      <td>Operations</td>\n",
       "      <td>region_34</td>\n",
       "      <td>Master's &amp; above</td>\n",
       "      <td>m</td>\n",
       "      <td>sourcing</td>\n",
       "      <td>1</td>\n",
       "      <td>33</td>\n",
       "      <td>3.0</td>\n",
       "      <td>6</td>\n",
       "      <td>0</td>\n",
       "      <td>63</td>\n",
       "      <td>0</td>\n",
       "    </tr>\n",
       "    <tr>\n",
       "      <th>8</th>\n",
       "      <td>73202</td>\n",
       "      <td>Analytics</td>\n",
       "      <td>region_20</td>\n",
       "      <td>Bachelor's</td>\n",
       "      <td>m</td>\n",
       "      <td>other</td>\n",
       "      <td>1</td>\n",
       "      <td>28</td>\n",
       "      <td>4.0</td>\n",
       "      <td>5</td>\n",
       "      <td>0</td>\n",
       "      <td>83</td>\n",
       "      <td>0</td>\n",
       "    </tr>\n",
       "    <tr>\n",
       "      <th>9</th>\n",
       "      <td>28911</td>\n",
       "      <td>Sales &amp; Marketing</td>\n",
       "      <td>region_1</td>\n",
       "      <td>Master's &amp; above</td>\n",
       "      <td>m</td>\n",
       "      <td>sourcing</td>\n",
       "      <td>1</td>\n",
       "      <td>32</td>\n",
       "      <td>5.0</td>\n",
       "      <td>5</td>\n",
       "      <td>0</td>\n",
       "      <td>54</td>\n",
       "      <td>0</td>\n",
       "    </tr>\n",
       "  </tbody>\n",
       "</table>\n",
       "</div>"
      ],
      "text/plain": [
       "   employee_id         department     region         education gender  \\\n",
       "0        65438  Sales & Marketing        NaN  Master's & above      f   \n",
       "1        65141         Operations  region_22        Bachelor's      m   \n",
       "2         7513  Sales & Marketing  region_19        Bachelor's      m   \n",
       "3         2542  Sales & Marketing  region_23        Bachelor's      m   \n",
       "4        48945         Technology  region_26        Bachelor's      m   \n",
       "5        58896          Analytics   region_2        Bachelor's      m   \n",
       "6        20379         Operations  region_20        Bachelor's      f   \n",
       "7        16290         Operations  region_34  Master's & above      m   \n",
       "8        73202          Analytics  region_20        Bachelor's      m   \n",
       "9        28911  Sales & Marketing   region_1  Master's & above      m   \n",
       "\n",
       "  recruitment_channel  no_of_trainings  age  previous_year_rating  \\\n",
       "0             sourcin                1  147                   5.0   \n",
       "1               other                1   30                   5.0   \n",
       "2            sourcing                1   34                   3.0   \n",
       "3               other                2   39                   1.0   \n",
       "4               other                1   45                   3.0   \n",
       "5            sourcing                2   31                   3.0   \n",
       "6               other                1   31                   3.0   \n",
       "7            sourcing                1   33                   3.0   \n",
       "8               other                1   28                   4.0   \n",
       "9            sourcing                1   32                   5.0   \n",
       "\n",
       "   length_of_service  awards_won?  avg_training_score is_promoted  \n",
       "0                  8            0                  49         Yes  \n",
       "1                  4            0                  60           0  \n",
       "2                  7            0                  50           0  \n",
       "3                 10            0                  50           0  \n",
       "4                  2            0                  73           0  \n",
       "5                  7            0                  85           0  \n",
       "6                  5            0                  59           0  \n",
       "7                  6            0                  63           0  \n",
       "8                  5            0                  83           0  \n",
       "9                  5            0                  54           0  "
      ]
     },
     "execution_count": 5,
     "metadata": {},
     "output_type": "execute_result"
    }
   ],
   "source": [
    "df.head(10)"
   ]
  },
  {
   "cell_type": "markdown",
   "metadata": {
    "id": "bcSnFWQmp2KY"
   },
   "source": [
    "Conforme explicamos na primeira aula, o df.head() permite uma observação de algumas linhas iniciais do dataset. Costuma ser bem útil para entender um pouco mais da disposição dos dados, bem como para ter ideias de como trabalhar com as informações disponíveis. Nesse sentido, é interessante para já identificarmos algumas inconsistências iniciais, certo?\n",
    "<br>\n",
    "Primeiro, temos esse NaN na primeira linha da coluna *region*, que significa \"Not a Number\". É a forma que o Pandas representa uma informação que não foi preenchida.\n",
    "<br>\n",
    "Ainda nessa primeira linha, vemos que *sourcing* foi escrito incorretamente, a idade está fora do limite esperado e a coluna *is_promoted* apresenta um texto (Yes) ao invés de um valor binário (0 ou 1)"
   ]
  },
  {
   "cell_type": "code",
   "execution_count": null,
   "metadata": {
    "colab": {
     "base_uri": "https://localhost:8080/"
    },
    "id": "QpQ-pEQilb_i",
    "outputId": "7ec3082b-dcb1-456d-eadf-b711ab0c0d01"
   },
   "outputs": [
    {
     "name": "stdout",
     "output_type": "stream",
     "text": [
      "<class 'pandas.core.frame.DataFrame'>\n",
      "RangeIndex: 54812 entries, 0 to 54811\n",
      "Data columns (total 13 columns):\n",
      " #   Column                Non-Null Count  Dtype  \n",
      "---  ------                --------------  -----  \n",
      " 0   employee_id           54812 non-null  int64  \n",
      " 1   department            54812 non-null  object \n",
      " 2   region                54767 non-null  object \n",
      " 3   education             52402 non-null  object \n",
      " 4   gender                54812 non-null  object \n",
      " 5   recruitment_channel   54812 non-null  object \n",
      " 6   no_of_trainings       54812 non-null  int64  \n",
      " 7   age                   54812 non-null  int64  \n",
      " 8   previous_year_rating  50687 non-null  float64\n",
      " 9   length_of_service     54812 non-null  int64  \n",
      " 10  awards_won?           54812 non-null  int64  \n",
      " 11  avg_training_score    54812 non-null  int64  \n",
      " 12  is_promoted           54812 non-null  object \n",
      "dtypes: float64(1), int64(6), object(6)\n",
      "memory usage: 5.4+ MB\n"
     ]
    }
   ],
   "source": [
    "df.info()"
   ]
  },
  {
   "cell_type": "markdown",
   "metadata": {
    "id": "JBvKoI4pquMs"
   },
   "source": [
    "O df.info() fornece as colunas do dataset, o número de valores não-nulos (não-ausentes) em cada coluna e o tipo de coluna\n",
    "  - int64: coluna com valores inteiros (inclui binários)\n",
    "  - float64: coluna com valores numéricos, não necessariamente inteiros\n",
    "  - object: demais colunas (apenas texto, texto e número)\n",
    "\n",
    "Nesse sentido, também já é possível observar alguns problemas aqui, certo?\n",
    "  - Algumas colunas apresentam valores ausentes (*region*, *education* e *previous_year_rating*\n",
    "  - A coluna *is_promoted*, como havíamos visto anteriormente, é binária, logo deveria ter como Dtype *int64*. Todavia, se apresenta como *object*. Isso ocorre justamente por apresentar texto no lugar de número por erro de registro (lembra da primeira linha? estava escrito \"Yes\" ao invés do número correspondente: 1)."
   ]
  },
  {
   "cell_type": "code",
   "execution_count": null,
   "metadata": {
    "colab": {
     "base_uri": "https://localhost:8080/",
     "height": 300
    },
    "id": "fZTyuytiUOYL",
    "outputId": "359e6af1-2ec7-4572-f4a7-8b1a9eedeabe"
   },
   "outputs": [
    {
     "data": {
      "text/html": [
       "\n",
       "  <div id=\"df-a4fce672-de2d-4ce6-af60-7d98f153be74\" class=\"colab-df-container\">\n",
       "    <div>\n",
       "<style scoped>\n",
       "    .dataframe tbody tr th:only-of-type {\n",
       "        vertical-align: middle;\n",
       "    }\n",
       "\n",
       "    .dataframe tbody tr th {\n",
       "        vertical-align: top;\n",
       "    }\n",
       "\n",
       "    .dataframe thead th {\n",
       "        text-align: right;\n",
       "    }\n",
       "</style>\n",
       "<table border=\"1\" class=\"dataframe\">\n",
       "  <thead>\n",
       "    <tr style=\"text-align: right;\">\n",
       "      <th></th>\n",
       "      <th>employee_id</th>\n",
       "      <th>no_of_trainings</th>\n",
       "      <th>age</th>\n",
       "      <th>previous_year_rating</th>\n",
       "      <th>length_of_service</th>\n",
       "      <th>awards_won?</th>\n",
       "      <th>avg_training_score</th>\n",
       "    </tr>\n",
       "  </thead>\n",
       "  <tbody>\n",
       "    <tr>\n",
       "      <th>count</th>\n",
       "      <td>54812.000000</td>\n",
       "      <td>54812.000000</td>\n",
       "      <td>54812.000000</td>\n",
       "      <td>50687.000000</td>\n",
       "      <td>54812.000000</td>\n",
       "      <td>54812.000000</td>\n",
       "      <td>54812.000000</td>\n",
       "    </tr>\n",
       "    <tr>\n",
       "      <th>mean</th>\n",
       "      <td>39195.616745</td>\n",
       "      <td>1.253466</td>\n",
       "      <td>34.806010</td>\n",
       "      <td>3.329236</td>\n",
       "      <td>5.865376</td>\n",
       "      <td>0.023170</td>\n",
       "      <td>63.387032</td>\n",
       "    </tr>\n",
       "    <tr>\n",
       "      <th>std</th>\n",
       "      <td>22586.388870</td>\n",
       "      <td>0.614090</td>\n",
       "      <td>7.675021</td>\n",
       "      <td>1.259958</td>\n",
       "      <td>4.265024</td>\n",
       "      <td>0.150445</td>\n",
       "      <td>13.371405</td>\n",
       "    </tr>\n",
       "    <tr>\n",
       "      <th>min</th>\n",
       "      <td>1.000000</td>\n",
       "      <td>1.000000</td>\n",
       "      <td>20.000000</td>\n",
       "      <td>1.000000</td>\n",
       "      <td>1.000000</td>\n",
       "      <td>0.000000</td>\n",
       "      <td>39.000000</td>\n",
       "    </tr>\n",
       "    <tr>\n",
       "      <th>25%</th>\n",
       "      <td>19669.750000</td>\n",
       "      <td>1.000000</td>\n",
       "      <td>29.000000</td>\n",
       "      <td>3.000000</td>\n",
       "      <td>3.000000</td>\n",
       "      <td>0.000000</td>\n",
       "      <td>51.000000</td>\n",
       "    </tr>\n",
       "    <tr>\n",
       "      <th>50%</th>\n",
       "      <td>39225.500000</td>\n",
       "      <td>1.000000</td>\n",
       "      <td>33.000000</td>\n",
       "      <td>3.000000</td>\n",
       "      <td>5.000000</td>\n",
       "      <td>0.000000</td>\n",
       "      <td>60.000000</td>\n",
       "    </tr>\n",
       "    <tr>\n",
       "      <th>75%</th>\n",
       "      <td>58729.250000</td>\n",
       "      <td>1.000000</td>\n",
       "      <td>39.000000</td>\n",
       "      <td>4.000000</td>\n",
       "      <td>7.000000</td>\n",
       "      <td>0.000000</td>\n",
       "      <td>76.000000</td>\n",
       "    </tr>\n",
       "    <tr>\n",
       "      <th>max</th>\n",
       "      <td>78298.000000</td>\n",
       "      <td>14.000000</td>\n",
       "      <td>147.000000</td>\n",
       "      <td>5.000000</td>\n",
       "      <td>37.000000</td>\n",
       "      <td>1.000000</td>\n",
       "      <td>99.000000</td>\n",
       "    </tr>\n",
       "  </tbody>\n",
       "</table>\n",
       "</div>\n",
       "    <div class=\"colab-df-buttons\">\n",
       "\n",
       "  <div class=\"colab-df-container\">\n",
       "    <button class=\"colab-df-convert\" onclick=\"convertToInteractive('df-a4fce672-de2d-4ce6-af60-7d98f153be74')\"\n",
       "            title=\"Convert this dataframe to an interactive table.\"\n",
       "            style=\"display:none;\">\n",
       "\n",
       "  <svg xmlns=\"http://www.w3.org/2000/svg\" height=\"24px\" viewBox=\"0 -960 960 960\">\n",
       "    <path d=\"M120-120v-720h720v720H120Zm60-500h600v-160H180v160Zm220 220h160v-160H400v160Zm0 220h160v-160H400v160ZM180-400h160v-160H180v160Zm440 0h160v-160H620v160ZM180-180h160v-160H180v160Zm440 0h160v-160H620v160Z\"/>\n",
       "  </svg>\n",
       "    </button>\n",
       "\n",
       "  <style>\n",
       "    .colab-df-container {\n",
       "      display:flex;\n",
       "      gap: 12px;\n",
       "    }\n",
       "\n",
       "    .colab-df-convert {\n",
       "      background-color: #E8F0FE;\n",
       "      border: none;\n",
       "      border-radius: 50%;\n",
       "      cursor: pointer;\n",
       "      display: none;\n",
       "      fill: #1967D2;\n",
       "      height: 32px;\n",
       "      padding: 0 0 0 0;\n",
       "      width: 32px;\n",
       "    }\n",
       "\n",
       "    .colab-df-convert:hover {\n",
       "      background-color: #E2EBFA;\n",
       "      box-shadow: 0px 1px 2px rgba(60, 64, 67, 0.3), 0px 1px 3px 1px rgba(60, 64, 67, 0.15);\n",
       "      fill: #174EA6;\n",
       "    }\n",
       "\n",
       "    .colab-df-buttons div {\n",
       "      margin-bottom: 4px;\n",
       "    }\n",
       "\n",
       "    [theme=dark] .colab-df-convert {\n",
       "      background-color: #3B4455;\n",
       "      fill: #D2E3FC;\n",
       "    }\n",
       "\n",
       "    [theme=dark] .colab-df-convert:hover {\n",
       "      background-color: #434B5C;\n",
       "      box-shadow: 0px 1px 3px 1px rgba(0, 0, 0, 0.15);\n",
       "      filter: drop-shadow(0px 1px 2px rgba(0, 0, 0, 0.3));\n",
       "      fill: #FFFFFF;\n",
       "    }\n",
       "  </style>\n",
       "\n",
       "    <script>\n",
       "      const buttonEl =\n",
       "        document.querySelector('#df-a4fce672-de2d-4ce6-af60-7d98f153be74 button.colab-df-convert');\n",
       "      buttonEl.style.display =\n",
       "        google.colab.kernel.accessAllowed ? 'block' : 'none';\n",
       "\n",
       "      async function convertToInteractive(key) {\n",
       "        const element = document.querySelector('#df-a4fce672-de2d-4ce6-af60-7d98f153be74');\n",
       "        const dataTable =\n",
       "          await google.colab.kernel.invokeFunction('convertToInteractive',\n",
       "                                                    [key], {});\n",
       "        if (!dataTable) return;\n",
       "\n",
       "        const docLinkHtml = 'Like what you see? Visit the ' +\n",
       "          '<a target=\"_blank\" href=https://colab.research.google.com/notebooks/data_table.ipynb>data table notebook</a>'\n",
       "          + ' to learn more about interactive tables.';\n",
       "        element.innerHTML = '';\n",
       "        dataTable['output_type'] = 'display_data';\n",
       "        await google.colab.output.renderOutput(dataTable, element);\n",
       "        const docLink = document.createElement('div');\n",
       "        docLink.innerHTML = docLinkHtml;\n",
       "        element.appendChild(docLink);\n",
       "      }\n",
       "    </script>\n",
       "  </div>\n",
       "\n",
       "\n",
       "<div id=\"df-905de514-a9b3-4f0a-8665-803689d61367\">\n",
       "  <button class=\"colab-df-quickchart\" onclick=\"quickchart('df-905de514-a9b3-4f0a-8665-803689d61367')\"\n",
       "            title=\"Suggest charts\"\n",
       "            style=\"display:none;\">\n",
       "\n",
       "<svg xmlns=\"http://www.w3.org/2000/svg\" height=\"24px\"viewBox=\"0 0 24 24\"\n",
       "     width=\"24px\">\n",
       "    <g>\n",
       "        <path d=\"M19 3H5c-1.1 0-2 .9-2 2v14c0 1.1.9 2 2 2h14c1.1 0 2-.9 2-2V5c0-1.1-.9-2-2-2zM9 17H7v-7h2v7zm4 0h-2V7h2v10zm4 0h-2v-4h2v4z\"/>\n",
       "    </g>\n",
       "</svg>\n",
       "  </button>\n",
       "\n",
       "<style>\n",
       "  .colab-df-quickchart {\n",
       "      --bg-color: #E8F0FE;\n",
       "      --fill-color: #1967D2;\n",
       "      --hover-bg-color: #E2EBFA;\n",
       "      --hover-fill-color: #174EA6;\n",
       "      --disabled-fill-color: #AAA;\n",
       "      --disabled-bg-color: #DDD;\n",
       "  }\n",
       "\n",
       "  [theme=dark] .colab-df-quickchart {\n",
       "      --bg-color: #3B4455;\n",
       "      --fill-color: #D2E3FC;\n",
       "      --hover-bg-color: #434B5C;\n",
       "      --hover-fill-color: #FFFFFF;\n",
       "      --disabled-bg-color: #3B4455;\n",
       "      --disabled-fill-color: #666;\n",
       "  }\n",
       "\n",
       "  .colab-df-quickchart {\n",
       "    background-color: var(--bg-color);\n",
       "    border: none;\n",
       "    border-radius: 50%;\n",
       "    cursor: pointer;\n",
       "    display: none;\n",
       "    fill: var(--fill-color);\n",
       "    height: 32px;\n",
       "    padding: 0;\n",
       "    width: 32px;\n",
       "  }\n",
       "\n",
       "  .colab-df-quickchart:hover {\n",
       "    background-color: var(--hover-bg-color);\n",
       "    box-shadow: 0 1px 2px rgba(60, 64, 67, 0.3), 0 1px 3px 1px rgba(60, 64, 67, 0.15);\n",
       "    fill: var(--button-hover-fill-color);\n",
       "  }\n",
       "\n",
       "  .colab-df-quickchart-complete:disabled,\n",
       "  .colab-df-quickchart-complete:disabled:hover {\n",
       "    background-color: var(--disabled-bg-color);\n",
       "    fill: var(--disabled-fill-color);\n",
       "    box-shadow: none;\n",
       "  }\n",
       "\n",
       "  .colab-df-spinner {\n",
       "    border: 2px solid var(--fill-color);\n",
       "    border-color: transparent;\n",
       "    border-bottom-color: var(--fill-color);\n",
       "    animation:\n",
       "      spin 1s steps(1) infinite;\n",
       "  }\n",
       "\n",
       "  @keyframes spin {\n",
       "    0% {\n",
       "      border-color: transparent;\n",
       "      border-bottom-color: var(--fill-color);\n",
       "      border-left-color: var(--fill-color);\n",
       "    }\n",
       "    20% {\n",
       "      border-color: transparent;\n",
       "      border-left-color: var(--fill-color);\n",
       "      border-top-color: var(--fill-color);\n",
       "    }\n",
       "    30% {\n",
       "      border-color: transparent;\n",
       "      border-left-color: var(--fill-color);\n",
       "      border-top-color: var(--fill-color);\n",
       "      border-right-color: var(--fill-color);\n",
       "    }\n",
       "    40% {\n",
       "      border-color: transparent;\n",
       "      border-right-color: var(--fill-color);\n",
       "      border-top-color: var(--fill-color);\n",
       "    }\n",
       "    60% {\n",
       "      border-color: transparent;\n",
       "      border-right-color: var(--fill-color);\n",
       "    }\n",
       "    80% {\n",
       "      border-color: transparent;\n",
       "      border-right-color: var(--fill-color);\n",
       "      border-bottom-color: var(--fill-color);\n",
       "    }\n",
       "    90% {\n",
       "      border-color: transparent;\n",
       "      border-bottom-color: var(--fill-color);\n",
       "    }\n",
       "  }\n",
       "</style>\n",
       "\n",
       "  <script>\n",
       "    async function quickchart(key) {\n",
       "      const quickchartButtonEl =\n",
       "        document.querySelector('#' + key + ' button');\n",
       "      quickchartButtonEl.disabled = true;  // To prevent multiple clicks.\n",
       "      quickchartButtonEl.classList.add('colab-df-spinner');\n",
       "      try {\n",
       "        const charts = await google.colab.kernel.invokeFunction(\n",
       "            'suggestCharts', [key], {});\n",
       "      } catch (error) {\n",
       "        console.error('Error during call to suggestCharts:', error);\n",
       "      }\n",
       "      quickchartButtonEl.classList.remove('colab-df-spinner');\n",
       "      quickchartButtonEl.classList.add('colab-df-quickchart-complete');\n",
       "    }\n",
       "    (() => {\n",
       "      let quickchartButtonEl =\n",
       "        document.querySelector('#df-905de514-a9b3-4f0a-8665-803689d61367 button');\n",
       "      quickchartButtonEl.style.display =\n",
       "        google.colab.kernel.accessAllowed ? 'block' : 'none';\n",
       "    })();\n",
       "  </script>\n",
       "</div>\n",
       "    </div>\n",
       "  </div>\n"
      ],
      "text/plain": [
       "        employee_id  no_of_trainings           age  previous_year_rating  \\\n",
       "count  54812.000000     54812.000000  54812.000000          50687.000000   \n",
       "mean   39195.616745         1.253466     34.806010              3.329236   \n",
       "std    22586.388870         0.614090      7.675021              1.259958   \n",
       "min        1.000000         1.000000     20.000000              1.000000   \n",
       "25%    19669.750000         1.000000     29.000000              3.000000   \n",
       "50%    39225.500000         1.000000     33.000000              3.000000   \n",
       "75%    58729.250000         1.000000     39.000000              4.000000   \n",
       "max    78298.000000        14.000000    147.000000              5.000000   \n",
       "\n",
       "       length_of_service   awards_won?  avg_training_score  \n",
       "count       54812.000000  54812.000000        54812.000000  \n",
       "mean            5.865376      0.023170           63.387032  \n",
       "std             4.265024      0.150445           13.371405  \n",
       "min             1.000000      0.000000           39.000000  \n",
       "25%             3.000000      0.000000           51.000000  \n",
       "50%             5.000000      0.000000           60.000000  \n",
       "75%             7.000000      0.000000           76.000000  \n",
       "max            37.000000      1.000000           99.000000  "
      ]
     },
     "execution_count": 63,
     "metadata": {},
     "output_type": "execute_result"
    }
   ],
   "source": [
    "df.describe()"
   ]
  },
  {
   "cell_type": "markdown",
   "metadata": {
    "id": "HctlUZ-VtkyJ"
   },
   "source": [
    "A função .describe() é usualmente utilizada para compreender melhor a dispersão dos dados numéricos (máximos, mínimos, média, mediana e outros parâmetros estatísticos).\n",
    "<br>\n",
    "De cara, é possível perceber alguns valores estranhos. A idade máxima 147, como já tínhamos visto no df.head(), e também o máximo de número de treinamentos em 14, sendo que a média é 1.25"
   ]
  },
  {
   "cell_type": "code",
   "execution_count": null,
   "metadata": {
    "colab": {
     "base_uri": "https://localhost:8080/",
     "height": 175
    },
    "id": "I9kK0CA9UObs",
    "outputId": "6da51471-8dc5-4a3b-ef5e-f97495f96938"
   },
   "outputs": [
    {
     "data": {
      "text/html": [
       "\n",
       "  <div id=\"df-173f4ed3-8bd2-4eca-98ff-8e0e4cbfc8f5\" class=\"colab-df-container\">\n",
       "    <div>\n",
       "<style scoped>\n",
       "    .dataframe tbody tr th:only-of-type {\n",
       "        vertical-align: middle;\n",
       "    }\n",
       "\n",
       "    .dataframe tbody tr th {\n",
       "        vertical-align: top;\n",
       "    }\n",
       "\n",
       "    .dataframe thead th {\n",
       "        text-align: right;\n",
       "    }\n",
       "</style>\n",
       "<table border=\"1\" class=\"dataframe\">\n",
       "  <thead>\n",
       "    <tr style=\"text-align: right;\">\n",
       "      <th></th>\n",
       "      <th>department</th>\n",
       "      <th>region</th>\n",
       "      <th>education</th>\n",
       "      <th>gender</th>\n",
       "      <th>recruitment_channel</th>\n",
       "      <th>is_promoted</th>\n",
       "    </tr>\n",
       "  </thead>\n",
       "  <tbody>\n",
       "    <tr>\n",
       "      <th>count</th>\n",
       "      <td>54812</td>\n",
       "      <td>54767</td>\n",
       "      <td>52402</td>\n",
       "      <td>54812</td>\n",
       "      <td>54812</td>\n",
       "      <td>54812</td>\n",
       "    </tr>\n",
       "    <tr>\n",
       "      <th>unique</th>\n",
       "      <td>9</td>\n",
       "      <td>34</td>\n",
       "      <td>3</td>\n",
       "      <td>3</td>\n",
       "      <td>7</td>\n",
       "      <td>4</td>\n",
       "    </tr>\n",
       "    <tr>\n",
       "      <th>top</th>\n",
       "      <td>Sales &amp; Marketing</td>\n",
       "      <td>region_2</td>\n",
       "      <td>Bachelor's</td>\n",
       "      <td>m</td>\n",
       "      <td>other</td>\n",
       "      <td>0</td>\n",
       "    </tr>\n",
       "    <tr>\n",
       "      <th>freq</th>\n",
       "      <td>16841</td>\n",
       "      <td>12337</td>\n",
       "      <td>36672</td>\n",
       "      <td>38499</td>\n",
       "      <td>30338</td>\n",
       "      <td>50133</td>\n",
       "    </tr>\n",
       "  </tbody>\n",
       "</table>\n",
       "</div>\n",
       "    <div class=\"colab-df-buttons\">\n",
       "\n",
       "  <div class=\"colab-df-container\">\n",
       "    <button class=\"colab-df-convert\" onclick=\"convertToInteractive('df-173f4ed3-8bd2-4eca-98ff-8e0e4cbfc8f5')\"\n",
       "            title=\"Convert this dataframe to an interactive table.\"\n",
       "            style=\"display:none;\">\n",
       "\n",
       "  <svg xmlns=\"http://www.w3.org/2000/svg\" height=\"24px\" viewBox=\"0 -960 960 960\">\n",
       "    <path d=\"M120-120v-720h720v720H120Zm60-500h600v-160H180v160Zm220 220h160v-160H400v160Zm0 220h160v-160H400v160ZM180-400h160v-160H180v160Zm440 0h160v-160H620v160ZM180-180h160v-160H180v160Zm440 0h160v-160H620v160Z\"/>\n",
       "  </svg>\n",
       "    </button>\n",
       "\n",
       "  <style>\n",
       "    .colab-df-container {\n",
       "      display:flex;\n",
       "      gap: 12px;\n",
       "    }\n",
       "\n",
       "    .colab-df-convert {\n",
       "      background-color: #E8F0FE;\n",
       "      border: none;\n",
       "      border-radius: 50%;\n",
       "      cursor: pointer;\n",
       "      display: none;\n",
       "      fill: #1967D2;\n",
       "      height: 32px;\n",
       "      padding: 0 0 0 0;\n",
       "      width: 32px;\n",
       "    }\n",
       "\n",
       "    .colab-df-convert:hover {\n",
       "      background-color: #E2EBFA;\n",
       "      box-shadow: 0px 1px 2px rgba(60, 64, 67, 0.3), 0px 1px 3px 1px rgba(60, 64, 67, 0.15);\n",
       "      fill: #174EA6;\n",
       "    }\n",
       "\n",
       "    .colab-df-buttons div {\n",
       "      margin-bottom: 4px;\n",
       "    }\n",
       "\n",
       "    [theme=dark] .colab-df-convert {\n",
       "      background-color: #3B4455;\n",
       "      fill: #D2E3FC;\n",
       "    }\n",
       "\n",
       "    [theme=dark] .colab-df-convert:hover {\n",
       "      background-color: #434B5C;\n",
       "      box-shadow: 0px 1px 3px 1px rgba(0, 0, 0, 0.15);\n",
       "      filter: drop-shadow(0px 1px 2px rgba(0, 0, 0, 0.3));\n",
       "      fill: #FFFFFF;\n",
       "    }\n",
       "  </style>\n",
       "\n",
       "    <script>\n",
       "      const buttonEl =\n",
       "        document.querySelector('#df-173f4ed3-8bd2-4eca-98ff-8e0e4cbfc8f5 button.colab-df-convert');\n",
       "      buttonEl.style.display =\n",
       "        google.colab.kernel.accessAllowed ? 'block' : 'none';\n",
       "\n",
       "      async function convertToInteractive(key) {\n",
       "        const element = document.querySelector('#df-173f4ed3-8bd2-4eca-98ff-8e0e4cbfc8f5');\n",
       "        const dataTable =\n",
       "          await google.colab.kernel.invokeFunction('convertToInteractive',\n",
       "                                                    [key], {});\n",
       "        if (!dataTable) return;\n",
       "\n",
       "        const docLinkHtml = 'Like what you see? Visit the ' +\n",
       "          '<a target=\"_blank\" href=https://colab.research.google.com/notebooks/data_table.ipynb>data table notebook</a>'\n",
       "          + ' to learn more about interactive tables.';\n",
       "        element.innerHTML = '';\n",
       "        dataTable['output_type'] = 'display_data';\n",
       "        await google.colab.output.renderOutput(dataTable, element);\n",
       "        const docLink = document.createElement('div');\n",
       "        docLink.innerHTML = docLinkHtml;\n",
       "        element.appendChild(docLink);\n",
       "      }\n",
       "    </script>\n",
       "  </div>\n",
       "\n",
       "\n",
       "<div id=\"df-6050f648-5651-497c-a1e6-b82b5b5c2db3\">\n",
       "  <button class=\"colab-df-quickchart\" onclick=\"quickchart('df-6050f648-5651-497c-a1e6-b82b5b5c2db3')\"\n",
       "            title=\"Suggest charts\"\n",
       "            style=\"display:none;\">\n",
       "\n",
       "<svg xmlns=\"http://www.w3.org/2000/svg\" height=\"24px\"viewBox=\"0 0 24 24\"\n",
       "     width=\"24px\">\n",
       "    <g>\n",
       "        <path d=\"M19 3H5c-1.1 0-2 .9-2 2v14c0 1.1.9 2 2 2h14c1.1 0 2-.9 2-2V5c0-1.1-.9-2-2-2zM9 17H7v-7h2v7zm4 0h-2V7h2v10zm4 0h-2v-4h2v4z\"/>\n",
       "    </g>\n",
       "</svg>\n",
       "  </button>\n",
       "\n",
       "<style>\n",
       "  .colab-df-quickchart {\n",
       "      --bg-color: #E8F0FE;\n",
       "      --fill-color: #1967D2;\n",
       "      --hover-bg-color: #E2EBFA;\n",
       "      --hover-fill-color: #174EA6;\n",
       "      --disabled-fill-color: #AAA;\n",
       "      --disabled-bg-color: #DDD;\n",
       "  }\n",
       "\n",
       "  [theme=dark] .colab-df-quickchart {\n",
       "      --bg-color: #3B4455;\n",
       "      --fill-color: #D2E3FC;\n",
       "      --hover-bg-color: #434B5C;\n",
       "      --hover-fill-color: #FFFFFF;\n",
       "      --disabled-bg-color: #3B4455;\n",
       "      --disabled-fill-color: #666;\n",
       "  }\n",
       "\n",
       "  .colab-df-quickchart {\n",
       "    background-color: var(--bg-color);\n",
       "    border: none;\n",
       "    border-radius: 50%;\n",
       "    cursor: pointer;\n",
       "    display: none;\n",
       "    fill: var(--fill-color);\n",
       "    height: 32px;\n",
       "    padding: 0;\n",
       "    width: 32px;\n",
       "  }\n",
       "\n",
       "  .colab-df-quickchart:hover {\n",
       "    background-color: var(--hover-bg-color);\n",
       "    box-shadow: 0 1px 2px rgba(60, 64, 67, 0.3), 0 1px 3px 1px rgba(60, 64, 67, 0.15);\n",
       "    fill: var(--button-hover-fill-color);\n",
       "  }\n",
       "\n",
       "  .colab-df-quickchart-complete:disabled,\n",
       "  .colab-df-quickchart-complete:disabled:hover {\n",
       "    background-color: var(--disabled-bg-color);\n",
       "    fill: var(--disabled-fill-color);\n",
       "    box-shadow: none;\n",
       "  }\n",
       "\n",
       "  .colab-df-spinner {\n",
       "    border: 2px solid var(--fill-color);\n",
       "    border-color: transparent;\n",
       "    border-bottom-color: var(--fill-color);\n",
       "    animation:\n",
       "      spin 1s steps(1) infinite;\n",
       "  }\n",
       "\n",
       "  @keyframes spin {\n",
       "    0% {\n",
       "      border-color: transparent;\n",
       "      border-bottom-color: var(--fill-color);\n",
       "      border-left-color: var(--fill-color);\n",
       "    }\n",
       "    20% {\n",
       "      border-color: transparent;\n",
       "      border-left-color: var(--fill-color);\n",
       "      border-top-color: var(--fill-color);\n",
       "    }\n",
       "    30% {\n",
       "      border-color: transparent;\n",
       "      border-left-color: var(--fill-color);\n",
       "      border-top-color: var(--fill-color);\n",
       "      border-right-color: var(--fill-color);\n",
       "    }\n",
       "    40% {\n",
       "      border-color: transparent;\n",
       "      border-right-color: var(--fill-color);\n",
       "      border-top-color: var(--fill-color);\n",
       "    }\n",
       "    60% {\n",
       "      border-color: transparent;\n",
       "      border-right-color: var(--fill-color);\n",
       "    }\n",
       "    80% {\n",
       "      border-color: transparent;\n",
       "      border-right-color: var(--fill-color);\n",
       "      border-bottom-color: var(--fill-color);\n",
       "    }\n",
       "    90% {\n",
       "      border-color: transparent;\n",
       "      border-bottom-color: var(--fill-color);\n",
       "    }\n",
       "  }\n",
       "</style>\n",
       "\n",
       "  <script>\n",
       "    async function quickchart(key) {\n",
       "      const quickchartButtonEl =\n",
       "        document.querySelector('#' + key + ' button');\n",
       "      quickchartButtonEl.disabled = true;  // To prevent multiple clicks.\n",
       "      quickchartButtonEl.classList.add('colab-df-spinner');\n",
       "      try {\n",
       "        const charts = await google.colab.kernel.invokeFunction(\n",
       "            'suggestCharts', [key], {});\n",
       "      } catch (error) {\n",
       "        console.error('Error during call to suggestCharts:', error);\n",
       "      }\n",
       "      quickchartButtonEl.classList.remove('colab-df-spinner');\n",
       "      quickchartButtonEl.classList.add('colab-df-quickchart-complete');\n",
       "    }\n",
       "    (() => {\n",
       "      let quickchartButtonEl =\n",
       "        document.querySelector('#df-6050f648-5651-497c-a1e6-b82b5b5c2db3 button');\n",
       "      quickchartButtonEl.style.display =\n",
       "        google.colab.kernel.accessAllowed ? 'block' : 'none';\n",
       "    })();\n",
       "  </script>\n",
       "</div>\n",
       "    </div>\n",
       "  </div>\n"
      ],
      "text/plain": [
       "               department    region   education gender recruitment_channel  \\\n",
       "count               54812     54767       52402  54812               54812   \n",
       "unique                  9        34           3      3                   7   \n",
       "top     Sales & Marketing  region_2  Bachelor's      m               other   \n",
       "freq                16841     12337       36672  38499               30338   \n",
       "\n",
       "       is_promoted  \n",
       "count        54812  \n",
       "unique           4  \n",
       "top              0  \n",
       "freq         50133  "
      ]
     },
     "execution_count": 64,
     "metadata": {},
     "output_type": "execute_result"
    }
   ],
   "source": [
    "df.describe(include=['object'])"
   ]
  },
  {
   "cell_type": "markdown",
   "metadata": {
    "id": "j8NscmL8uYe4"
   },
   "source": [
    "Também é possível usar a função .describe() para analisar dados categóricos, qualitativos (basta adicionar o include=['object']).\n",
    "<br>\n",
    "Do ponto de vista da limpeza de dados, é interessante observar a linha \"unique\", que mostra o número de valores únicos de cada coluna. Por exemplo, *is_promoted*, que deveria ter 2 valores únicos e ser do tipo inteiro, apresenta 4 e está como tipo *object*. Analogamente, *gender*, que, nesse dataset em específico assume apenas dois valores, também tem 3 valores únicos, indicando alguma inconsistência."
   ]
  },
  {
   "cell_type": "markdown",
   "metadata": {
    "id": "3th1kydo3XZg"
   },
   "source": [
    "## Lidando com valores duplicados"
   ]
  },
  {
   "cell_type": "markdown",
   "metadata": {
    "id": "keARPpKO3ZdB"
   },
   "source": [
    "Entende-se por duplicata uma linha que apresenta os exatos mesmos valores que outra linha - incluindo a mesma identidade, que deveria ser única. Este é um problema relativamente simples de ser resolvido: basta identificar as duplicatas e eliminá-las, como veremos abaixo"
   ]
  },
  {
   "cell_type": "code",
   "execution_count": null,
   "metadata": {
    "colab": {
     "base_uri": "https://localhost:8080/"
    },
    "id": "d_UklJgL3W17",
    "outputId": "0ea6b5c4-a58e-41cf-b950-e2b03f932231"
   },
   "outputs": [
    {
     "data": {
      "text/plain": [
       "False    54808\n",
       "True         4\n",
       "dtype: int64"
      ]
     },
     "execution_count": 65,
     "metadata": {},
     "output_type": "execute_result"
    }
   ],
   "source": [
    "#Identificando duplicatas\n",
    "df.duplicated().value_counts()"
   ]
  },
  {
   "cell_type": "markdown",
   "metadata": {
    "id": "g3V_sKyL44MJ"
   },
   "source": [
    "Nota-se que há 4 duplicatas no nosso dataset. Hora de eliminá-las!"
   ]
  },
  {
   "cell_type": "code",
   "execution_count": null,
   "metadata": {
    "id": "te0TOzTE5NLO"
   },
   "outputs": [],
   "source": [
    "df = df.drop_duplicates()"
   ]
  },
  {
   "cell_type": "markdown",
   "metadata": {
    "id": "d4HGVJ5aNfzk"
   },
   "source": [
    "## Lidando com valores ausentes"
   ]
  },
  {
   "cell_type": "markdown",
   "metadata": {
    "id": "wO5Bq74bNo7E"
   },
   "source": [
    "Sem sombra de dúvidas, o principal problema que o analista de dados enfrenta na parte de limpeza e tratamento dos dados é o que fazer com valores ausentes.\n",
    "<br>\n",
    "<br>\n",
    "Basicamente, existem duas técnicas possíveis. Não há um certo ou errado, mas a depender do contexto determinada técnica pode se mostrar mais adequada que outra\n",
    "- Técnica 1: eliminar todas as linhas com dados ausentes. Tem como vantagem ser rápida e eficiente, mas, a depender da quantidade de linhas com dados ausentes, pode ser prejudicial à análise dos dados, uma que vez reduz consideravelmente a robustez do modelo e, caso haja algum padrão de ausência (exemplo: pra determinada idade é mais comum que não tenhamos informação de educação), podemos nos deparar com análises e conclusões equivocadas à respeito do nosso conjunto de dados.\n",
    "- Técnica 2: substituir o valor ausente por algum valor que tenha sentido lógico. Essa técnica é, na realidade, um conjunto de técnicas, já que são muitas as substituições possíveis: pela média, pela moda, pela mediana, por valor máximo ou mínimo, ou ainda análises mais complexas, que levam em consideração muitas outras colunas para determinar qual é o valor que mais faz sentido. A vantagem é não perder o tamanho e a robustez do modelo, mas se muitos dados estiverem ausentes, essa substituição causa erros de análise (os dados acabam ficando muito concentrados no parâmetro escolhido - média, moda, mediana, máximo/mínimo). Para contornar isso, é recomendável usar técnicas um pouco mais sofisticadas de substituição"
   ]
  },
  {
   "cell_type": "markdown",
   "metadata": {
    "id": "mfn3NfpONyKV"
   },
   "source": [
    "Nesse contexto, devemos primeiro detectar as colunas com valores ausentes e a quantidade de valores ausentes. Para tanto, uma boa ferramente é a biblioteca MissingNo:"
   ]
  },
  {
   "cell_type": "code",
   "execution_count": null,
   "metadata": {
    "colab": {
     "base_uri": "https://localhost:8080/",
     "height": 630
    },
    "id": "Ly0L-sjIN2dU",
    "outputId": "1c003d58-4e23-477f-c621-dcb8f4c3dafc"
   },
   "outputs": [
    {
     "data": {
      "text/plain": [
       "<Axes: >"
      ]
     },
     "execution_count": 67,
     "metadata": {},
     "output_type": "execute_result"
    },
    {
     "data": {
      "image/png": "[encoded data removed]",
      "text/plain": [
       "<Figure size 2500x1000 with 3 Axes>"
      ]
     },
     "metadata": {},
     "output_type": "display_data"
    }
   ],
   "source": [
    "import missingno as msno\n",
    "msno.bar(df)"
   ]
  },
  {
   "cell_type": "markdown",
   "metadata": {
    "id": "WqYTqJf2N6p6"
   },
   "source": [
    "É possível observar que o percentual de valores ausentes parece ser relativamente abaixo e estes estão presentes em apenas três colunas: *region*, *education* e *previous_year_rating*.\n",
    "<br>\n",
    "Mas apenas com este gráfico não conseguimos saber, de fato, quantas linhas tem valor nulo. Para tanto, teremos que usar a função .isnull()"
   ]
  },
  {
   "cell_type": "code",
   "execution_count": null,
   "metadata": {
    "colab": {
     "base_uri": "https://localhost:8080/"
    },
    "id": "emzVkpQMOD4P",
    "outputId": "b47d34d4-8e96-469b-9b10-9171df371a15"
   },
   "outputs": [
    {
     "data": {
      "text/plain": [
       "0        1\n",
       "1        0\n",
       "2        0\n",
       "3        0\n",
       "4        0\n",
       "        ..\n",
       "54803    0\n",
       "54804    0\n",
       "54805    0\n",
       "54806    1\n",
       "54807    0\n",
       "Length: 54808, dtype: int64"
      ]
     },
     "execution_count": 68,
     "metadata": {},
     "output_type": "execute_result"
    }
   ],
   "source": [
    "#Identifica cada linha que tem valor nulo\n",
    "linhas_com_nulos = df.isnull().sum(axis=1)\n",
    "linhas_com_nulos"
   ]
  },
  {
   "cell_type": "code",
   "execution_count": null,
   "metadata": {
    "colab": {
     "base_uri": "https://localhost:8080/"
    },
    "id": "vMstjcMGOEDb",
    "outputId": "6c9cc607-276b-4c86-ceb1-fe0ae56dc3d1"
   },
   "outputs": [
    {
     "name": "stdout",
     "output_type": "stream",
     "text": [
      "Total de linhas com pelo menos um valor nulo: 6191\n",
      "Percentual de linhas com pelo menos um valor nulo: 0.11295796234126405\n"
     ]
    }
   ],
   "source": [
    "#Soma as linhas com valor nulo\n",
    "total_linhas_com_pelo_menos_um_nulo = (linhas_com_nulos > 0).sum()\n",
    "#Tira o percentual de nulos\n",
    "percentual_linhas_valor_nulo = total_linhas_com_pelo_menos_um_nulo/len(df)\n",
    "\n",
    "print(\"Total de linhas com pelo menos um valor nulo:\", total_linhas_com_pelo_menos_um_nulo)\n",
    "print(\"Percentual de linhas com pelo menos um valor nulo:\", percentual_linhas_valor_nulo)"
   ]
  },
  {
   "cell_type": "markdown",
   "metadata": {
    "id": "K8OhzukkOTlM"
   },
   "source": [
    "Os resultados mostram que cerca de 11% das linhas apresentam valor ausente (nulo). Nesse sentido, a técnica 1 não parece ser a mais adequada, uma vez que este percentual é significativo. Logo, usemos a técnica 2, selecionando um método de substituição para cada coluna com dados ausentes."
   ]
  },
  {
   "cell_type": "markdown",
   "metadata": {
    "id": "vgQcprgKOTwU"
   },
   "source": [
    "Comecemos pelo maior problema (a que tem mais dados ausentes): *previous_year_rating*. Uma possível explicação para esta ausência é que muitos profissionais podem ter sido contratados este ano e, portanto, não tem avaliação referente ao ano anterior.\n",
    "<br>\n",
    "<br>\n",
    "Como o percentual da linhas com *previous_year_rating* ausente é de cerca de 8%, valor significativo, opta-se por usar a técnica 1! Sua aplicação é super simples, depende apenas da função .dropna():"
   ]
  },
  {
   "cell_type": "code",
   "execution_count": null,
   "metadata": {
    "id": "OepQU_TMOkdW"
   },
   "outputs": [],
   "source": [
    "df = df.dropna(subset=['previous_year_rating'])"
   ]
  },
  {
   "cell_type": "markdown",
   "metadata": {
    "id": "2BpHWoXHuhS9"
   },
   "source": [
    "Em seguida, analisemos a coluna *region*. Como são poucos valores ausentes (menos de 1%), é razoável aproximar pela moda, como foi feito abaixo:"
   ]
  },
  {
   "cell_type": "code",
   "execution_count": null,
   "metadata": {
    "colab": {
     "base_uri": "https://localhost:8080/"
    },
    "id": "Fo-2ZrcfueAf",
    "outputId": "efb92a0e-0ae1-4fd6-830e-6374d6e6e970"
   },
   "outputs": [
    {
     "name": "stderr",
     "output_type": "stream",
     "text": [
      "<ipython-input-71-49321724acef>:2: SettingWithCopyWarning: \n",
      "A value is trying to be set on a copy of a slice from a DataFrame.\n",
      "Try using .loc[row_indexer,col_indexer] = value instead\n",
      "\n",
      "See the caveats in the documentation: https://pandas.pydata.org/pandas-docs/stable/user_guide/indexing.html#returning-a-view-versus-a-copy\n",
      "  df['region'] = df['region'].fillna(moda_region)\n"
     ]
    }
   ],
   "source": [
    "moda_region = df['region'].mode()[0]\n",
    "df['region'] = df['region'].fillna(moda_region)"
   ]
  },
  {
   "cell_type": "markdown",
   "metadata": {
    "id": "RUkcrY7SOle7"
   },
   "source": [
    "Por fim, a segunda coluna com mais dados ausentes é a de educação. Para ela, podemos ou eliminar os dados ausentes ou realizar uma substituição, preferencialmente uma técnica mais sofisticada, considerando a quantidade de *missing values*.\n",
    "<br>\n",
    "<br>\n",
    "Nesse contexto, podemos fazer uma substituição com base na idade. É possível que a idade tenha a ver com o nível educacional, certo? Quanto maior o nível educacional, maior tende a ser a idade, dado que, para obter um mestrado, por exemplo, é necessário, antes, realizar o Ensino Médio e uma graduação em Ensino Superior, o que leva tempo.\n",
    "<br>\n",
    "<br>\n",
    "Vamos verificar se essa hipótese é correta! Para tanto, vamos usar um boxplot, que mostra justamente a relação entre os valores de uma coluna quantitativa e uma coluna categórica."
   ]
  },
  {
   "cell_type": "code",
   "execution_count": null,
   "metadata": {
    "colab": {
     "base_uri": "https://localhost:8080/",
     "height": 480
    },
    "id": "0Ym5DhtKOrZ2",
    "outputId": "a8910deb-5bcc-405e-cafe-56ce8f1c1ce5"
   },
   "outputs": [
    {
     "data": {
      "text/plain": [
       "<Figure size 800x600 with 0 Axes>"
      ]
     },
     "metadata": {},
     "output_type": "display_data"
    },
    {
     "data": {
      "image/png": "[encoded data removed]",
      "text/plain": [
       "<Figure size 640x480 with 1 Axes>"
      ]
     },
     "metadata": {},
     "output_type": "display_data"
    }
   ],
   "source": [
    "# Criar um boxplot separado para cada nível educacional\n",
    "import matplotlib.pyplot as plt\n",
    "plt.figure(figsize=(8, 6)) #Definir tamanho do boxplot\n",
    "df.boxplot(column='age', by='education') #Definir qual coluna categórica e qual coluna quantitativa serão usadas\n",
    "plt.title(\"Boxplot da Idade por Nível Educacional\") #Dar um título ao gráfico\n",
    "plt.xlabel(\"Nível Educacional\") #Título do eixo X\n",
    "plt.ylabel(\"Idade\") #Título do eixo Y\n",
    "plt.suptitle(\"\")  # Remover o título padrão do Pandas\n",
    "\n",
    "# Mostrar o gráfico\n",
    "plt.show()"
   ]
  },
  {
   "cell_type": "markdown",
   "metadata": {
    "id": "4THq6XeXO_kJ"
   },
   "source": [
    "Ignoremos por enquanto como foi feito esse boxplot, isso é tema para a próxima aula. O que nos interessa, de fato, é que nossa hipótese parece fazer sentido! Quanto mais velho maior tende a ser o nível educacional\n",
    "<br>\n",
    "<br>\n",
    "Sendo assim, uma boa técnica de substituição é pegar a idade da pessoa e, a partir da mesma, montar uma regra de substituição:\n",
    "- Para pessoas de até 30 anos, substituir o valor ausente na educação por *Below Secondary*\n",
    "- Para pessoas de 31 a 37 anos, substituir o valor ausente na educação por *Bachelor's*\n",
    "- Para pessoas acima de 37 anos, substituir o valor ausente na educação por *Master's & Above*\n",
    "\n",
    "\n",
    "Para tanto, continuaremos a usaremos uma combinação de técnicas de programação: o pd.isna(*nome da coluna*), que verifica valores ausentes daquela coluna, e o .apply, que recebe uma função e aplica ela no conjunto de dados"
   ]
  },
  {
   "cell_type": "code",
   "execution_count": null,
   "metadata": {
    "id": "ItY1Tx4RPF6z"
   },
   "outputs": [],
   "source": [
    "def substituir_educacao(row):\n",
    "    idade = row['age'] #coleta todos os valores de idade\n",
    "    educacao = row['education'] #coleta todos os valores de educação\n",
    "\n",
    "    if pd.isna(educacao): #o uso do isna() é feito para olhar apenas para valores ausentes da coluna de educação\n",
    "        if idade <= 30:\n",
    "            return \"Below Secondary\"\n",
    "        elif 31 <= idade <= 37:\n",
    "            return \"Bachelor's\"\n",
    "        else:\n",
    "            return \"Master's & above\"\n",
    "    else:\n",
    "        return educacao\n",
    "\n",
    "# Aplicar a função de substituição\n",
    "df['education'] = df.apply(substituir_educacao, axis=1) #substitui os valores ausentes"
   ]
  },
  {
   "cell_type": "markdown",
   "metadata": {
    "id": "N-zpCTAAPTm4"
   },
   "source": [
    "#Limpando colunas com valor ausente\n",
    "df = df.dropna()"
   ]
  },
  {
   "cell_type": "markdown",
   "metadata": {
    "id": "_0CbvH2LPZDH"
   },
   "source": [
    "Hora da verificação! Será que consertamos todos os valores ausentes?"
   ]
  },
  {
   "cell_type": "code",
   "execution_count": null,
   "metadata": {
    "colab": {
     "base_uri": "https://localhost:8080/",
     "height": 630
    },
    "id": "JgLPxlTpPcTW",
    "outputId": "3d9841d9-7a2f-4f2d-82f1-fd6034e39ccc"
   },
   "outputs": [
    {
     "data": {
      "text/plain": [
       "<Axes: >"
      ]
     },
     "execution_count": 77,
     "metadata": {},
     "output_type": "execute_result"
    },
    {
     "data": {
      "image/png": "[encoded data removed]",
      "text/plain": [
       "<Figure size 2500x1000 with 3 Axes>"
      ]
     },
     "metadata": {},
     "output_type": "display_data"
    }
   ],
   "source": [
    "msno.bar(df)"
   ]
  },
  {
   "cell_type": "markdown",
   "metadata": {
    "id": "x5zW1vFhPhvc"
   },
   "source": [
    "De fato, o problema foi solucionado!"
   ]
  },
  {
   "cell_type": "markdown",
   "metadata": {
    "id": "RYigIS7evK-x"
   },
   "source": [
    "## Lidando especificamente com os dados qualitativos (categóricos)"
   ]
  },
  {
   "cell_type": "markdown",
   "metadata": {
    "id": "R3-icbOsOHRP"
   },
   "source": [
    "Na limpeza de dados, é sempre importante segmentar o problema - a abordagem de limpeza e tratamento de dados qualitativos é um pouco diversa daquela usada para dados quantitativos.\n",
    "<br>\n",
    "Além disso, cabe dizer que dados que devem ser quantitativos mas que por algum erro acabaram sendo classificados como *object* devem primeiro ser corrigidos junto dos dados de fato qualitativos e depois de corrigidos analisados junto dos quantitativos. A coluna *is_promoted*, por exemplo, é quantitativa, mas por causa de alguns erros de registro foi classificada como *object*\n",
    "<br>\n",
    "Conforme visto acima, temos 6 colunas classificadas como qualitativas - ou seja - colunas com variáveis cujos valores podem ser separados em diferentes categorias que se distinguem por alguma característica não numérica. São elas:\n",
    "- department\n",
    "- region\n",
    "- education\n",
    "- gender\n",
    "- recruitment_channel\n",
    "- is_promoted"
   ]
  },
  {
   "cell_type": "markdown",
   "metadata": {
    "id": "aeDiHSw2zSXe"
   },
   "source": [
    "Para limpar e tratar os dados categóricos, o primeiro passo é verificar quais são os valores únicos em cada uma dessas colunas: podemos encontrar erros de ortografia, por exemplo, ou dado completamente inconsistente (exemplo: educação - Carlos), como veremos abaixo:"
   ]
  },
  {
   "cell_type": "code",
   "execution_count": null,
   "metadata": {
    "colab": {
     "base_uri": "https://localhost:8080/"
    },
    "id": "9XgWs1yTwVPJ",
    "outputId": "d11b571f-28bc-4074-caa2-5f1ddf8efcdf"
   },
   "outputs": [
    {
     "data": {
      "text/plain": [
       "Sales & Marketing    15529\n",
       "Operations           10760\n",
       "Procurement           6709\n",
       "Technology            6592\n",
       "Analytics             4886\n",
       "Finance               2253\n",
       "HR                    2172\n",
       "R&D                    912\n",
       "Legal                  871\n",
       "Name: department, dtype: int64"
      ]
     },
     "execution_count": 78,
     "metadata": {},
     "output_type": "execute_result"
    }
   ],
   "source": [
    "df[\"department\"].value_counts()"
   ]
  },
  {
   "cell_type": "code",
   "execution_count": null,
   "metadata": {
    "colab": {
     "base_uri": "https://localhost:8080/"
    },
    "id": "lXpUQQXewnQc",
    "outputId": "3b049e91-d7e2-4220-9c8d-dd766deabdcc"
   },
   "outputs": [
    {
     "data": {
      "text/plain": [
       "region_2     11573\n",
       "region_22     5680\n",
       "region_7      4582\n",
       "region_15     2687\n",
       "region_13     2507\n",
       "region_26     2043\n",
       "region_31     1771\n",
       "region_4      1624\n",
       "region_27     1487\n",
       "region_16     1354\n",
       "region_28     1218\n",
       "region_11     1209\n",
       "region_23     1130\n",
       "region_29      904\n",
       "region_19      848\n",
       "region_32      838\n",
       "region_14      783\n",
       "region_20      780\n",
       "region_25      752\n",
       "region_17      750\n",
       "region_5       695\n",
       "region_10      617\n",
       "region_30      614\n",
       "region_6       589\n",
       "region_8       588\n",
       "region_1       564\n",
       "region_24      460\n",
       "region_12      427\n",
       "region_21      377\n",
       "region_9       364\n",
       "region_3       332\n",
       "region_33      260\n",
       "region_34      253\n",
       "region_18       24\n",
       "Name: region, dtype: int64"
      ]
     },
     "execution_count": 79,
     "metadata": {},
     "output_type": "execute_result"
    }
   ],
   "source": [
    "df[\"region\"].value_counts()"
   ]
  },
  {
   "cell_type": "code",
   "execution_count": null,
   "metadata": {
    "colab": {
     "base_uri": "https://localhost:8080/"
    },
    "id": "U9zOjVkYwnTM",
    "outputId": "526ce427-f7a7-49c5-e598-cce5382ca6b0"
   },
   "outputs": [
    {
     "data": {
      "text/plain": [
       "Bachelor's          33961\n",
       "Master's & above    15194\n",
       "Below Secondary      1529\n",
       "Name: education, dtype: int64"
      ]
     },
     "execution_count": 80,
     "metadata": {},
     "output_type": "execute_result"
    }
   ],
   "source": [
    "df[\"education\"].value_counts()"
   ]
  },
  {
   "cell_type": "code",
   "execution_count": null,
   "metadata": {
    "colab": {
     "base_uri": "https://localhost:8080/"
    },
    "id": "OYZSwNaawnVU",
    "outputId": "3bd93d51-73d9-4507-c41d-feb4320108ac"
   },
   "outputs": [
    {
     "data": {
      "text/plain": [
       "m    35529\n",
       "f    15153\n",
       "w        2\n",
       "Name: gender, dtype: int64"
      ]
     },
     "execution_count": 81,
     "metadata": {},
     "output_type": "execute_result"
    }
   ],
   "source": [
    "df[\"gender\"].value_counts()"
   ]
  },
  {
   "cell_type": "code",
   "execution_count": null,
   "metadata": {
    "colab": {
     "base_uri": "https://localhost:8080/"
    },
    "id": "AWa-KPQrwnYH",
    "outputId": "74646b11-9eb1-4379-e4d4-d9dcf41da512"
   },
   "outputs": [
    {
     "data": {
      "text/plain": [
       "other       28087\n",
       "sourcing    21563\n",
       "referred     1023\n",
       "orther          6\n",
       "sorcing         3\n",
       "sourcin         1\n",
       "refered         1\n",
       "Name: recruitment_channel, dtype: int64"
      ]
     },
     "execution_count": 82,
     "metadata": {},
     "output_type": "execute_result"
    }
   ],
   "source": [
    "df[\"recruitment_channel\"].value_counts()"
   ]
  },
  {
   "cell_type": "code",
   "execution_count": null,
   "metadata": {
    "colab": {
     "base_uri": "https://localhost:8080/"
    },
    "id": "T6a3t3zTwnbF",
    "outputId": "e8ce211e-4011-4557-b04a-f26a996f2b1f"
   },
   "outputs": [
    {
     "data": {
      "text/plain": [
       "0      46347\n",
       "1       4329\n",
       "Yes        4\n",
       "No         4\n",
       "Name: is_promoted, dtype: int64"
      ]
     },
     "execution_count": 83,
     "metadata": {},
     "output_type": "execute_result"
    }
   ],
   "source": [
    "df[\"is_promoted\"].value_counts()"
   ]
  },
  {
   "cell_type": "markdown",
   "metadata": {
    "id": "N0ruzlkXxdv3"
   },
   "source": [
    "A partir da função .value_counts(), nota-se que *department*, *region* e *education* não aparentam ter problemas no que diz respeito aos valores apresentados. Todavia, as demais colunas são problemáticas:\n",
    "- A coluna de gênero apresenta um \"w\", que provavelmente refere-se a *woman* (mulher em inglês), logo deveria estar classificado como \"f\" (referente ao gênero feminino);\n",
    "- No *recruitment_channel*, temos uma série de erros de ortografia: orther no lugar de *other*, refered no lugar de *referred* e sourcing e sorcing no lugar de *sourcing*;\n",
    "- A coluna *is_promoted* tem valor *Yes* ao invés de 1 (foi promovido) e valor *No* ao invés de 0 (não foi promovido)\n",
    "<br>\n",
    "<br>\n",
    "\n",
    "Agora que já encontramos os primeiros erros, precisamos corrigi-los! Para substituir em uma coluna um valor por outro, usamos o **comando .replace()**"
   ]
  },
  {
   "cell_type": "code",
   "execution_count": null,
   "metadata": {
    "id": "QuL6mHQMwndf"
   },
   "outputs": [],
   "source": [
    "df['gender'] = df['gender'].replace({'w': 'f'}).astype(object)\n",
    "df['recruitment_channel'] = df['recruitment_channel'].replace({'orther': 'other', 'sorcing': 'sourcing', 'sourcin': 'sourcing',\n",
    "                                                               'refered': 'referred'}).astype(object)\n",
    "df['is_promoted'] = df['is_promoted'].replace({'Yes': 1, 'No': 0}).astype(int)"
   ]
  },
  {
   "cell_type": "markdown",
   "metadata": {
    "id": "eKwWbKZT0rzr"
   },
   "source": [
    "É sempre bom verificar se todos os erros foram corrigidos. Para tanto, olhemos para o value_counts() novamente!"
   ]
  },
  {
   "cell_type": "code",
   "execution_count": null,
   "metadata": {
    "colab": {
     "base_uri": "https://localhost:8080/"
    },
    "id": "0UpFccSR0436",
    "outputId": "863abd01-6665-4689-91f3-43923184e451"
   },
   "outputs": [
    {
     "data": {
      "text/plain": [
       "m    35529\n",
       "f    15155\n",
       "Name: gender, dtype: int64"
      ]
     },
     "execution_count": 85,
     "metadata": {},
     "output_type": "execute_result"
    }
   ],
   "source": [
    "df[\"gender\"].value_counts()"
   ]
  },
  {
   "cell_type": "code",
   "execution_count": null,
   "metadata": {
    "colab": {
     "base_uri": "https://localhost:8080/"
    },
    "id": "i1H89ZAV08YG",
    "outputId": "e7a878e4-b0f2-4729-fd3d-fcecaeb3e3a5"
   },
   "outputs": [
    {
     "data": {
      "text/plain": [
       "other       28093\n",
       "sourcing    21567\n",
       "referred     1024\n",
       "Name: recruitment_channel, dtype: int64"
      ]
     },
     "execution_count": 86,
     "metadata": {},
     "output_type": "execute_result"
    }
   ],
   "source": [
    "df[\"recruitment_channel\"].value_counts()"
   ]
  },
  {
   "cell_type": "code",
   "execution_count": null,
   "metadata": {
    "colab": {
     "base_uri": "https://localhost:8080/"
    },
    "id": "aIVr_Rus0-fk",
    "outputId": "1bc528b3-2c00-442c-8f3c-f72a0a265fb3"
   },
   "outputs": [
    {
     "data": {
      "text/plain": [
       "0    46351\n",
       "1     4333\n",
       "Name: is_promoted, dtype: int64"
      ]
     },
     "execution_count": 87,
     "metadata": {},
     "output_type": "execute_result"
    }
   ],
   "source": [
    "df[\"is_promoted\"].value_counts()"
   ]
  },
  {
   "cell_type": "code",
   "execution_count": null,
   "metadata": {
    "colab": {
     "base_uri": "https://localhost:8080/"
    },
    "id": "624WzlNx6Ell",
    "outputId": "dc31742f-ab45-4da2-e778-83221313f4e9"
   },
   "outputs": [
    {
     "name": "stdout",
     "output_type": "stream",
     "text": [
      "<class 'pandas.core.frame.DataFrame'>\n",
      "Int64Index: 50684 entries, 0 to 54807\n",
      "Data columns (total 13 columns):\n",
      " #   Column                Non-Null Count  Dtype  \n",
      "---  ------                --------------  -----  \n",
      " 0   employee_id           50684 non-null  int64  \n",
      " 1   department            50684 non-null  object \n",
      " 2   region                50684 non-null  object \n",
      " 3   education             50684 non-null  object \n",
      " 4   gender                50684 non-null  object \n",
      " 5   recruitment_channel   50684 non-null  object \n",
      " 6   no_of_trainings       50684 non-null  int64  \n",
      " 7   age                   50684 non-null  int64  \n",
      " 8   previous_year_rating  50684 non-null  float64\n",
      " 9   length_of_service     50684 non-null  int64  \n",
      " 10  awards_won?           50684 non-null  int64  \n",
      " 11  avg_training_score    50684 non-null  int64  \n",
      " 12  is_promoted           50684 non-null  int64  \n",
      "dtypes: float64(1), int64(7), object(5)\n",
      "memory usage: 5.4+ MB\n"
     ]
    }
   ],
   "source": [
    "df.info()"
   ]
  },
  {
   "cell_type": "markdown",
   "metadata": {
    "id": "__1waMC315AB"
   },
   "source": [
    "Repare que, além de termos resolvido o problema do erro ortográfico, automaticamente também consertamos o tipo de coluna no *is_promoted*, pois agora ela se apresenta como inteiro, o que de fato é, ao invés de *object*. Podemos, enfim, analisá-la como variável quantiativa na próxima seção!"
   ]
  },
  {
   "cell_type": "markdown",
   "metadata": {
    "id": "c-iGYJz2Syek"
   },
   "source": [
    "## Lidando especificamente com dados quantitativos"
   ]
  },
  {
   "cell_type": "markdown",
   "metadata": {
    "id": "t89-Pn5IS3tR"
   },
   "source": [
    "Chegamos aos dados quantitativos! Para eles, os problemas aos quais devemos estar atentos são de valores impossíveis ou valores estranhos, muito acima ou abaixo do padrão, que chamamos de *outliers*.\n",
    "\n",
    "Primeiramente, relembremos quais são os dados quantitativos com a função .describe()"
   ]
  },
  {
   "cell_type": "code",
   "execution_count": null,
   "metadata": {
    "colab": {
     "base_uri": "https://localhost:8080/",
     "height": 300
    },
    "id": "E5l5N03ZTPlB",
    "outputId": "e2691fc2-87ce-47ff-d5f3-aa9cee967259"
   },
   "outputs": [
    {
     "data": {
      "text/html": [
       "\n",
       "  <div id=\"df-6002198d-06d8-47b9-bd07-9f4d86499dcc\" class=\"colab-df-container\">\n",
       "    <div>\n",
       "<style scoped>\n",
       "    .dataframe tbody tr th:only-of-type {\n",
       "        vertical-align: middle;\n",
       "    }\n",
       "\n",
       "    .dataframe tbody tr th {\n",
       "        vertical-align: top;\n",
       "    }\n",
       "\n",
       "    .dataframe thead th {\n",
       "        text-align: right;\n",
       "    }\n",
       "</style>\n",
       "<table border=\"1\" class=\"dataframe\">\n",
       "  <thead>\n",
       "    <tr style=\"text-align: right;\">\n",
       "      <th></th>\n",
       "      <th>employee_id</th>\n",
       "      <th>no_of_trainings</th>\n",
       "      <th>age</th>\n",
       "      <th>previous_year_rating</th>\n",
       "      <th>length_of_service</th>\n",
       "      <th>awards_won?</th>\n",
       "      <th>avg_training_score</th>\n",
       "      <th>is_promoted</th>\n",
       "    </tr>\n",
       "  </thead>\n",
       "  <tbody>\n",
       "    <tr>\n",
       "      <th>count</th>\n",
       "      <td>50684.000000</td>\n",
       "      <td>50684.000000</td>\n",
       "      <td>50684.000000</td>\n",
       "      <td>50684.000000</td>\n",
       "      <td>50684.000000</td>\n",
       "      <td>50684.000000</td>\n",
       "      <td>50684.000000</td>\n",
       "      <td>50684.000000</td>\n",
       "    </tr>\n",
       "    <tr>\n",
       "      <th>mean</th>\n",
       "      <td>39182.829769</td>\n",
       "      <td>1.248875</td>\n",
       "      <td>35.451405</td>\n",
       "      <td>3.329256</td>\n",
       "      <td>6.261404</td>\n",
       "      <td>0.023163</td>\n",
       "      <td>63.389137</td>\n",
       "      <td>0.085490</td>\n",
       "    </tr>\n",
       "    <tr>\n",
       "      <th>std</th>\n",
       "      <td>22615.566687</td>\n",
       "      <td>0.605545</td>\n",
       "      <td>7.587039</td>\n",
       "      <td>1.259993</td>\n",
       "      <td>4.193831</td>\n",
       "      <td>0.150423</td>\n",
       "      <td>13.336133</td>\n",
       "      <td>0.279613</td>\n",
       "    </tr>\n",
       "    <tr>\n",
       "      <th>min</th>\n",
       "      <td>1.000000</td>\n",
       "      <td>1.000000</td>\n",
       "      <td>20.000000</td>\n",
       "      <td>1.000000</td>\n",
       "      <td>1.000000</td>\n",
       "      <td>0.000000</td>\n",
       "      <td>39.000000</td>\n",
       "      <td>0.000000</td>\n",
       "    </tr>\n",
       "    <tr>\n",
       "      <th>25%</th>\n",
       "      <td>19598.500000</td>\n",
       "      <td>1.000000</td>\n",
       "      <td>30.000000</td>\n",
       "      <td>3.000000</td>\n",
       "      <td>3.000000</td>\n",
       "      <td>0.000000</td>\n",
       "      <td>51.000000</td>\n",
       "      <td>0.000000</td>\n",
       "    </tr>\n",
       "    <tr>\n",
       "      <th>50%</th>\n",
       "      <td>39181.000000</td>\n",
       "      <td>1.000000</td>\n",
       "      <td>34.000000</td>\n",
       "      <td>3.000000</td>\n",
       "      <td>5.000000</td>\n",
       "      <td>0.000000</td>\n",
       "      <td>60.000000</td>\n",
       "      <td>0.000000</td>\n",
       "    </tr>\n",
       "    <tr>\n",
       "      <th>75%</th>\n",
       "      <td>58783.250000</td>\n",
       "      <td>1.000000</td>\n",
       "      <td>39.000000</td>\n",
       "      <td>4.000000</td>\n",
       "      <td>8.000000</td>\n",
       "      <td>0.000000</td>\n",
       "      <td>76.000000</td>\n",
       "      <td>0.000000</td>\n",
       "    </tr>\n",
       "    <tr>\n",
       "      <th>max</th>\n",
       "      <td>78298.000000</td>\n",
       "      <td>14.000000</td>\n",
       "      <td>147.000000</td>\n",
       "      <td>5.000000</td>\n",
       "      <td>37.000000</td>\n",
       "      <td>1.000000</td>\n",
       "      <td>99.000000</td>\n",
       "      <td>1.000000</td>\n",
       "    </tr>\n",
       "  </tbody>\n",
       "</table>\n",
       "</div>\n",
       "    <div class=\"colab-df-buttons\">\n",
       "\n",
       "  <div class=\"colab-df-container\">\n",
       "    <button class=\"colab-df-convert\" onclick=\"convertToInteractive('df-6002198d-06d8-47b9-bd07-9f4d86499dcc')\"\n",
       "            title=\"Convert this dataframe to an interactive table.\"\n",
       "            style=\"display:none;\">\n",
       "\n",
       "  <svg xmlns=\"http://www.w3.org/2000/svg\" height=\"24px\" viewBox=\"0 -960 960 960\">\n",
       "    <path d=\"M120-120v-720h720v720H120Zm60-500h600v-160H180v160Zm220 220h160v-160H400v160Zm0 220h160v-160H400v160ZM180-400h160v-160H180v160Zm440 0h160v-160H620v160ZM180-180h160v-160H180v160Zm440 0h160v-160H620v160Z\"/>\n",
       "  </svg>\n",
       "    </button>\n",
       "\n",
       "  <style>\n",
       "    .colab-df-container {\n",
       "      display:flex;\n",
       "      gap: 12px;\n",
       "    }\n",
       "\n",
       "    .colab-df-convert {\n",
       "      background-color: #E8F0FE;\n",
       "      border: none;\n",
       "      border-radius: 50%;\n",
       "      cursor: pointer;\n",
       "      display: none;\n",
       "      fill: #1967D2;\n",
       "      height: 32px;\n",
       "      padding: 0 0 0 0;\n",
       "      width: 32px;\n",
       "    }\n",
       "\n",
       "    .colab-df-convert:hover {\n",
       "      background-color: #E2EBFA;\n",
       "      box-shadow: 0px 1px 2px rgba(60, 64, 67, 0.3), 0px 1px 3px 1px rgba(60, 64, 67, 0.15);\n",
       "      fill: #174EA6;\n",
       "    }\n",
       "\n",
       "    .colab-df-buttons div {\n",
       "      margin-bottom: 4px;\n",
       "    }\n",
       "\n",
       "    [theme=dark] .colab-df-convert {\n",
       "      background-color: #3B4455;\n",
       "      fill: #D2E3FC;\n",
       "    }\n",
       "\n",
       "    [theme=dark] .colab-df-convert:hover {\n",
       "      background-color: #434B5C;\n",
       "      box-shadow: 0px 1px 3px 1px rgba(0, 0, 0, 0.15);\n",
       "      filter: drop-shadow(0px 1px 2px rgba(0, 0, 0, 0.3));\n",
       "      fill: #FFFFFF;\n",
       "    }\n",
       "  </style>\n",
       "\n",
       "    <script>\n",
       "      const buttonEl =\n",
       "        document.querySelector('#df-6002198d-06d8-47b9-bd07-9f4d86499dcc button.colab-df-convert');\n",
       "      buttonEl.style.display =\n",
       "        google.colab.kernel.accessAllowed ? 'block' : 'none';\n",
       "\n",
       "      async function convertToInteractive(key) {\n",
       "        const element = document.querySelector('#df-6002198d-06d8-47b9-bd07-9f4d86499dcc');\n",
       "        const dataTable =\n",
       "          await google.colab.kernel.invokeFunction('convertToInteractive',\n",
       "                                                    [key], {});\n",
       "        if (!dataTable) return;\n",
       "\n",
       "        const docLinkHtml = 'Like what you see? Visit the ' +\n",
       "          '<a target=\"_blank\" href=https://colab.research.google.com/notebooks/data_table.ipynb>data table notebook</a>'\n",
       "          + ' to learn more about interactive tables.';\n",
       "        element.innerHTML = '';\n",
       "        dataTable['output_type'] = 'display_data';\n",
       "        await google.colab.output.renderOutput(dataTable, element);\n",
       "        const docLink = document.createElement('div');\n",
       "        docLink.innerHTML = docLinkHtml;\n",
       "        element.appendChild(docLink);\n",
       "      }\n",
       "    </script>\n",
       "  </div>\n",
       "\n",
       "\n",
       "<div id=\"df-6b0832a2-3037-471d-aaed-cda4546c597e\">\n",
       "  <button class=\"colab-df-quickchart\" onclick=\"quickchart('df-6b0832a2-3037-471d-aaed-cda4546c597e')\"\n",
       "            title=\"Suggest charts\"\n",
       "            style=\"display:none;\">\n",
       "\n",
       "<svg xmlns=\"http://www.w3.org/2000/svg\" height=\"24px\"viewBox=\"0 0 24 24\"\n",
       "     width=\"24px\">\n",
       "    <g>\n",
       "        <path d=\"M19 3H5c-1.1 0-2 .9-2 2v14c0 1.1.9 2 2 2h14c1.1 0 2-.9 2-2V5c0-1.1-.9-2-2-2zM9 17H7v-7h2v7zm4 0h-2V7h2v10zm4 0h-2v-4h2v4z\"/>\n",
       "    </g>\n",
       "</svg>\n",
       "  </button>\n",
       "\n",
       "<style>\n",
       "  .colab-df-quickchart {\n",
       "      --bg-color: #E8F0FE;\n",
       "      --fill-color: #1967D2;\n",
       "      --hover-bg-color: #E2EBFA;\n",
       "      --hover-fill-color: #174EA6;\n",
       "      --disabled-fill-color: #AAA;\n",
       "      --disabled-bg-color: #DDD;\n",
       "  }\n",
       "\n",
       "  [theme=dark] .colab-df-quickchart {\n",
       "      --bg-color: #3B4455;\n",
       "      --fill-color: #D2E3FC;\n",
       "      --hover-bg-color: #434B5C;\n",
       "      --hover-fill-color: #FFFFFF;\n",
       "      --disabled-bg-color: #3B4455;\n",
       "      --disabled-fill-color: #666;\n",
       "  }\n",
       "\n",
       "  .colab-df-quickchart {\n",
       "    background-color: var(--bg-color);\n",
       "    border: none;\n",
       "    border-radius: 50%;\n",
       "    cursor: pointer;\n",
       "    display: none;\n",
       "    fill: var(--fill-color);\n",
       "    height: 32px;\n",
       "    padding: 0;\n",
       "    width: 32px;\n",
       "  }\n",
       "\n",
       "  .colab-df-quickchart:hover {\n",
       "    background-color: var(--hover-bg-color);\n",
       "    box-shadow: 0 1px 2px rgba(60, 64, 67, 0.3), 0 1px 3px 1px rgba(60, 64, 67, 0.15);\n",
       "    fill: var(--button-hover-fill-color);\n",
       "  }\n",
       "\n",
       "  .colab-df-quickchart-complete:disabled,\n",
       "  .colab-df-quickchart-complete:disabled:hover {\n",
       "    background-color: var(--disabled-bg-color);\n",
       "    fill: var(--disabled-fill-color);\n",
       "    box-shadow: none;\n",
       "  }\n",
       "\n",
       "  .colab-df-spinner {\n",
       "    border: 2px solid var(--fill-color);\n",
       "    border-color: transparent;\n",
       "    border-bottom-color: var(--fill-color);\n",
       "    animation:\n",
       "      spin 1s steps(1) infinite;\n",
       "  }\n",
       "\n",
       "  @keyframes spin {\n",
       "    0% {\n",
       "      border-color: transparent;\n",
       "      border-bottom-color: var(--fill-color);\n",
       "      border-left-color: var(--fill-color);\n",
       "    }\n",
       "    20% {\n",
       "      border-color: transparent;\n",
       "      border-left-color: var(--fill-color);\n",
       "      border-top-color: var(--fill-color);\n",
       "    }\n",
       "    30% {\n",
       "      border-color: transparent;\n",
       "      border-left-color: var(--fill-color);\n",
       "      border-top-color: var(--fill-color);\n",
       "      border-right-color: var(--fill-color);\n",
       "    }\n",
       "    40% {\n",
       "      border-color: transparent;\n",
       "      border-right-color: var(--fill-color);\n",
       "      border-top-color: var(--fill-color);\n",
       "    }\n",
       "    60% {\n",
       "      border-color: transparent;\n",
       "      border-right-color: var(--fill-color);\n",
       "    }\n",
       "    80% {\n",
       "      border-color: transparent;\n",
       "      border-right-color: var(--fill-color);\n",
       "      border-bottom-color: var(--fill-color);\n",
       "    }\n",
       "    90% {\n",
       "      border-color: transparent;\n",
       "      border-bottom-color: var(--fill-color);\n",
       "    }\n",
       "  }\n",
       "</style>\n",
       "\n",
       "  <script>\n",
       "    async function quickchart(key) {\n",
       "      const quickchartButtonEl =\n",
       "        document.querySelector('#' + key + ' button');\n",
       "      quickchartButtonEl.disabled = true;  // To prevent multiple clicks.\n",
       "      quickchartButtonEl.classList.add('colab-df-spinner');\n",
       "      try {\n",
       "        const charts = await google.colab.kernel.invokeFunction(\n",
       "            'suggestCharts', [key], {});\n",
       "      } catch (error) {\n",
       "        console.error('Error during call to suggestCharts:', error);\n",
       "      }\n",
       "      quickchartButtonEl.classList.remove('colab-df-spinner');\n",
       "      quickchartButtonEl.classList.add('colab-df-quickchart-complete');\n",
       "    }\n",
       "    (() => {\n",
       "      let quickchartButtonEl =\n",
       "        document.querySelector('#df-6b0832a2-3037-471d-aaed-cda4546c597e button');\n",
       "      quickchartButtonEl.style.display =\n",
       "        google.colab.kernel.accessAllowed ? 'block' : 'none';\n",
       "    })();\n",
       "  </script>\n",
       "</div>\n",
       "    </div>\n",
       "  </div>\n"
      ],
      "text/plain": [
       "        employee_id  no_of_trainings           age  previous_year_rating  \\\n",
       "count  50684.000000     50684.000000  50684.000000          50684.000000   \n",
       "mean   39182.829769         1.248875     35.451405              3.329256   \n",
       "std    22615.566687         0.605545      7.587039              1.259993   \n",
       "min        1.000000         1.000000     20.000000              1.000000   \n",
       "25%    19598.500000         1.000000     30.000000              3.000000   \n",
       "50%    39181.000000         1.000000     34.000000              3.000000   \n",
       "75%    58783.250000         1.000000     39.000000              4.000000   \n",
       "max    78298.000000        14.000000    147.000000              5.000000   \n",
       "\n",
       "       length_of_service   awards_won?  avg_training_score   is_promoted  \n",
       "count       50684.000000  50684.000000        50684.000000  50684.000000  \n",
       "mean            6.261404      0.023163           63.389137      0.085490  \n",
       "std             4.193831      0.150423           13.336133      0.279613  \n",
       "min             1.000000      0.000000           39.000000      0.000000  \n",
       "25%             3.000000      0.000000           51.000000      0.000000  \n",
       "50%             5.000000      0.000000           60.000000      0.000000  \n",
       "75%             8.000000      0.000000           76.000000      0.000000  \n",
       "max            37.000000      1.000000           99.000000      1.000000  "
      ]
     },
     "execution_count": 89,
     "metadata": {},
     "output_type": "execute_result"
    }
   ],
   "source": [
    "df.describe()"
   ]
  },
  {
   "cell_type": "markdown",
   "metadata": {
    "id": "tfIeFXxRTo7m"
   },
   "source": [
    "É interessante reparar que nosso valor inconsistente de idade sumiu. Isso ocorreu pois a linha relativa à idade de 147 anos era uma das linhas que não tinha dado acerca da região. Logo, quando fizemos o df.dropna() a linha inteira desapareceu, logo este dado não se faz mais presente.\n",
    "<br>\n",
    "<br>\n",
    "Uma rápida análise nos permite visualizar que não há nenhum dado impossível, mas alguns parecem altos demais, com destaque especial para *no_of_trainings*, que apresenta valor máximo de 14, muito acima de todos os demais parâmetros, e length_of_service de 37, também fora do padrão dos dados.\n",
    "<br>\n",
    "<br>\n",
    "Uma boa forma de visualizar esses valores \"estranhos\" é com um gráfico de dispersão 1D ou com histograma. Vejamos abaixo!\n"
   ]
  },
  {
   "cell_type": "code",
   "execution_count": null,
   "metadata": {
    "colab": {
     "base_uri": "https://localhost:8080/",
     "height": 467
    },
    "id": "GGYjw3RcUyTN",
    "outputId": "de0eb42b-ef7a-478a-9b0e-c79edebda5fb"
   },
   "outputs": [
    {
     "data": {
      "text/plain": [
       "<Axes: xlabel='no_of_trainings'>"
      ]
     },
     "execution_count": 90,
     "metadata": {},
     "output_type": "execute_result"
    },
    {
     "data": {
      "image/png": "[encoded data removed]",
      "text/plain": [
       "<Figure size 640x480 with 1 Axes>"
      ]
     },
     "metadata": {},
     "output_type": "display_data"
    }
   ],
   "source": [
    "#Gráfico 1D No_of_Trainings\n",
    "import seaborn as sns #importando uma biblioteca para visualização de dados\n",
    "sns.stripplot(data=df, x=\"no_of_trainings\")"
   ]
  },
  {
   "cell_type": "code",
   "execution_count": null,
   "metadata": {
    "colab": {
     "base_uri": "https://localhost:8080/",
     "height": 467
    },
    "id": "K0DxLx1NVVip",
    "outputId": "5921e61a-a723-46f1-f8ef-857eb66a06f0"
   },
   "outputs": [
    {
     "data": {
      "text/plain": [
       "<Axes: xlabel='no_of_trainings', ylabel='Count'>"
      ]
     },
     "execution_count": 91,
     "metadata": {},
     "output_type": "execute_result"
    },
    {
     "data": {
      "image/png": "[encoded data removed]",
      "text/plain": [
       "<Figure size 640x480 with 1 Axes>"
      ]
     },
     "metadata": {},
     "output_type": "display_data"
    }
   ],
   "source": [
    "#Histograma No_of_Trainings\n",
    "sns.histplot(data=df, x='no_of_trainings')"
   ]
  },
  {
   "cell_type": "code",
   "execution_count": null,
   "metadata": {
    "colab": {
     "base_uri": "https://localhost:8080/",
     "height": 467
    },
    "id": "v0-5qFf7WfKY",
    "outputId": "b4fda421-2984-4d19-f37f-f4d8f1a329f7"
   },
   "outputs": [
    {
     "data": {
      "text/plain": [
       "<Axes: xlabel='length_of_service'>"
      ]
     },
     "execution_count": 92,
     "metadata": {},
     "output_type": "execute_result"
    },
    {
     "data": {
      "image/png": "[encoded data removed]",
      "text/plain": [
       "<Figure size 640x480 with 1 Axes>"
      ]
     },
     "metadata": {},
     "output_type": "display_data"
    }
   ],
   "source": [
    "#Gráfico 1D Length_of_Service\n",
    "sns.stripplot(data=df, x='length_of_service')"
   ]
  },
  {
   "cell_type": "code",
   "execution_count": null,
   "metadata": {
    "colab": {
     "base_uri": "https://localhost:8080/",
     "height": 467
    },
    "id": "MPV3QhxuWEEz",
    "outputId": "10954b0c-4270-43be-f48e-b08c9e4d6088"
   },
   "outputs": [
    {
     "data": {
      "text/plain": [
       "<Axes: xlabel='length_of_service', ylabel='Count'>"
      ]
     },
     "execution_count": 93,
     "metadata": {},
     "output_type": "execute_result"
    },
    {
     "data": {
      "image/png": "[encoded data removed]",
      "text/plain": [
       "<Figure size 640x480 with 1 Axes>"
      ]
     },
     "metadata": {},
     "output_type": "display_data"
    }
   ],
   "source": [
    "sns.histplot(data=df,x='length_of_service')"
   ]
  },
  {
   "cell_type": "markdown",
   "metadata": {
    "id": "C0cuzsYgW-ux"
   },
   "source": [
    "Os gráficos mostram que, de fato, este número de treinamentos super elevado presente em 2 linhas do dataset parecem inconsistentes, outliers, enquanto o valor alto de tempo de serviço está dentro do esperado para a distribuição em questão.\n",
    "<br>\n",
    "<br>\n",
    "É importante ressaltar que nem todo outlier é um erro ou algo necessariamente ruim. A depender da análise, inclusive, é necessário manter os outliers. Imagine que você tenha um dataset de faturamento dos produtos de uma empresa. Se um produto for responsável por 50% do faturamento, você irá eliminá-lo? Evidentemente não, pois a análise da empresa é extremamente associada à análise do seu carro-chefe de faturamento. É o que sempre reforçamos: as aulas fornecem caminhos, possíveis soluções para trabalhar com dados, mas cada *dataset* deve ter suas especificidades respeitadas!\n",
    "<br>\n",
    "<br>\n",
    "Voltando ao nosso exemplo, parece fazer sentido eliminar estes outliers - como eles são muito maiores que os demais e não há nenhum motivo/causa aparente, é grande a chance de ter ocorrido um erro de digitação, por exemplo. Ainda, como são apenas 2 linhas, não teremos prejuízo na análise.\n",
    "<br>\n",
    "<br>\n",
    "Para fazer essa eliminação, coloquemos a condição de que o número de treinos tenha que ser menor que 11:"
   ]
  },
  {
   "cell_type": "code",
   "execution_count": null,
   "metadata": {
    "id": "t11YYf20aHhj"
   },
   "outputs": [],
   "source": [
    "df = df[df.no_of_trainings < 11]"
   ]
  },
  {
   "cell_type": "markdown",
   "metadata": {
    "id": "c8Y7pKA-asRl"
   },
   "source": [
    "## Tratamento de Dados para Modelagem"
   ]
  },
  {
   "cell_type": "markdown",
   "metadata": {
    "id": "jTDZY8ioawgL"
   },
   "source": [
    "Retomando um pouco da aula 1, o César comentou sobre a importância de transformar palavras em números, lembram? Basicamente, isso acontece porque, para construir algoritmos de modelagem e predição, o nosso sistema precisa receber informações numéricas!\n",
    "<br>\n",
    "<br>\n",
    "Tá... mas o que fazer com as variáveis qualitativas?\n",
    "<br>\n",
    "<br>\n",
    "Depende do tipo de variável!\n",
    "- Nominal: não há uma ordem específica\n",
    "- Ordinal: há uma ordem, uma hierarquia entre os valores\n",
    " <br>\n",
    " <br>\n",
    " Caso seja uma variável ordinal, isto é, quando existe uma ordem, uma progressão entre os valores categóricos da coluna (como é o caso de *education*, em que *Below Secondary* é o nível educacional mais baixo, *Bachelors* o intermediário e *Masters* o mais avançado), devemos atribuir 0 para o nível mais baixo, 1 para o segundo mais baixo e assim por diante, até chegarmos no nível mais avançado.\n",
    " <br>\n",
    " <br>\n",
    " Por fim, caso seja uma variável com múltiplas categorias e não ordinal o processo é bem mais trabalhoso, temos que usar uma técnica chamada one-hot encoding, que veremos mais a fundo na aula 4. Mas fazendo um resumão, a ideia é substituir a coluna específica por N colunas, sendo o N o número de valores únicos da coluna (por exemplo, a coluna *recruitment_channel* tem 3 valores possíveis, logo serão criadas 3 colunas, uma para cada valor possível - referred, sourcing ou other). Em seguida, para cada linha, será atribuido 1 para a coluna com o valor da linha e 0 para as colunas sem o valor dessa linha em específico."
   ]
  },
  {
   "cell_type": "code",
   "execution_count": null,
   "metadata": {
    "colab": {
     "base_uri": "https://localhost:8080/"
    },
    "id": "EkMRqFME1yZu",
    "outputId": "fbc5163a-ab6e-48f9-c111-1f13580e0790"
   },
   "outputs": [
    {
     "name": "stderr",
     "output_type": "stream",
     "text": [
      "<ipython-input-95-484af4b58235>:2: SettingWithCopyWarning: \n",
      "A value is trying to be set on a copy of a slice from a DataFrame\n",
      "\n",
      "See the caveats in the documentation: https://pandas.pydata.org/pandas-docs/stable/user_guide/indexing.html#returning-a-view-versus-a-copy\n",
      "  df['education'].replace({\"Master's & above\": 2, \"Bachelor's\": 1, 'Below Secondary': 0}, inplace=True)\n"
     ]
    }
   ],
   "source": [
    "#Tratamento de variáveis ordinais\n",
    "df['education'].replace({\"Master's & above\": 2, \"Bachelor's\": 1, 'Below Secondary': 0}, inplace=True)"
   ]
  },
  {
   "cell_type": "code",
   "execution_count": null,
   "metadata": {
    "id": "AI3BLz6RBSK3"
   },
   "outputs": [],
   "source": [
    "#Tratamento de variáveis nominais\n",
    "df_encoded = pd.get_dummies(df, columns=['recruitment_channel','region','department','gender'])"
   ]
  },
  {
   "cell_type": "markdown",
   "metadata": {
    "id": "AkC--4aU28XH"
   },
   "source": [
    "Feitas estas transformações, temos nosso conjunto de dados pronto para modelagem."
   ]
  },
  {
   "cell_type": "code",
   "execution_count": null,
   "metadata": {
    "colab": {
     "base_uri": "https://localhost:8080/",
     "height": 273
    },
    "id": "_bsLftGB3MJJ",
    "outputId": "5670ec98-3b0a-4f4c-8da4-8d9e8dd81ffa"
   },
   "outputs": [
    {
     "data": {
      "text/html": [
       "\n",
       "  <div id=\"df-661618a8-e73b-4055-8485-4d5ff99db822\" class=\"colab-df-container\">\n",
       "    <div>\n",
       "<style scoped>\n",
       "    .dataframe tbody tr th:only-of-type {\n",
       "        vertical-align: middle;\n",
       "    }\n",
       "\n",
       "    .dataframe tbody tr th {\n",
       "        vertical-align: top;\n",
       "    }\n",
       "\n",
       "    .dataframe thead th {\n",
       "        text-align: right;\n",
       "    }\n",
       "</style>\n",
       "<table border=\"1\" class=\"dataframe\">\n",
       "  <thead>\n",
       "    <tr style=\"text-align: right;\">\n",
       "      <th></th>\n",
       "      <th>employee_id</th>\n",
       "      <th>education</th>\n",
       "      <th>no_of_trainings</th>\n",
       "      <th>age</th>\n",
       "      <th>previous_year_rating</th>\n",
       "      <th>length_of_service</th>\n",
       "      <th>awards_won?</th>\n",
       "      <th>avg_training_score</th>\n",
       "      <th>is_promoted</th>\n",
       "      <th>recruitment_channel_other</th>\n",
       "      <th>...</th>\n",
       "      <th>department_Finance</th>\n",
       "      <th>department_HR</th>\n",
       "      <th>department_Legal</th>\n",
       "      <th>department_Operations</th>\n",
       "      <th>department_Procurement</th>\n",
       "      <th>department_R&amp;D</th>\n",
       "      <th>department_Sales &amp; Marketing</th>\n",
       "      <th>department_Technology</th>\n",
       "      <th>gender_f</th>\n",
       "      <th>gender_m</th>\n",
       "    </tr>\n",
       "  </thead>\n",
       "  <tbody>\n",
       "    <tr>\n",
       "      <th>0</th>\n",
       "      <td>65438</td>\n",
       "      <td>2</td>\n",
       "      <td>1</td>\n",
       "      <td>147</td>\n",
       "      <td>5.0</td>\n",
       "      <td>8</td>\n",
       "      <td>0</td>\n",
       "      <td>49</td>\n",
       "      <td>1</td>\n",
       "      <td>0</td>\n",
       "      <td>...</td>\n",
       "      <td>0</td>\n",
       "      <td>0</td>\n",
       "      <td>0</td>\n",
       "      <td>0</td>\n",
       "      <td>0</td>\n",
       "      <td>0</td>\n",
       "      <td>1</td>\n",
       "      <td>0</td>\n",
       "      <td>1</td>\n",
       "      <td>0</td>\n",
       "    </tr>\n",
       "    <tr>\n",
       "      <th>1</th>\n",
       "      <td>65141</td>\n",
       "      <td>1</td>\n",
       "      <td>1</td>\n",
       "      <td>30</td>\n",
       "      <td>5.0</td>\n",
       "      <td>4</td>\n",
       "      <td>0</td>\n",
       "      <td>60</td>\n",
       "      <td>0</td>\n",
       "      <td>1</td>\n",
       "      <td>...</td>\n",
       "      <td>0</td>\n",
       "      <td>0</td>\n",
       "      <td>0</td>\n",
       "      <td>1</td>\n",
       "      <td>0</td>\n",
       "      <td>0</td>\n",
       "      <td>0</td>\n",
       "      <td>0</td>\n",
       "      <td>0</td>\n",
       "      <td>1</td>\n",
       "    </tr>\n",
       "    <tr>\n",
       "      <th>2</th>\n",
       "      <td>7513</td>\n",
       "      <td>1</td>\n",
       "      <td>1</td>\n",
       "      <td>34</td>\n",
       "      <td>3.0</td>\n",
       "      <td>7</td>\n",
       "      <td>0</td>\n",
       "      <td>50</td>\n",
       "      <td>0</td>\n",
       "      <td>0</td>\n",
       "      <td>...</td>\n",
       "      <td>0</td>\n",
       "      <td>0</td>\n",
       "      <td>0</td>\n",
       "      <td>0</td>\n",
       "      <td>0</td>\n",
       "      <td>0</td>\n",
       "      <td>1</td>\n",
       "      <td>0</td>\n",
       "      <td>0</td>\n",
       "      <td>1</td>\n",
       "    </tr>\n",
       "    <tr>\n",
       "      <th>3</th>\n",
       "      <td>2542</td>\n",
       "      <td>1</td>\n",
       "      <td>2</td>\n",
       "      <td>39</td>\n",
       "      <td>1.0</td>\n",
       "      <td>10</td>\n",
       "      <td>0</td>\n",
       "      <td>50</td>\n",
       "      <td>0</td>\n",
       "      <td>1</td>\n",
       "      <td>...</td>\n",
       "      <td>0</td>\n",
       "      <td>0</td>\n",
       "      <td>0</td>\n",
       "      <td>0</td>\n",
       "      <td>0</td>\n",
       "      <td>0</td>\n",
       "      <td>1</td>\n",
       "      <td>0</td>\n",
       "      <td>0</td>\n",
       "      <td>1</td>\n",
       "    </tr>\n",
       "    <tr>\n",
       "      <th>4</th>\n",
       "      <td>48945</td>\n",
       "      <td>1</td>\n",
       "      <td>1</td>\n",
       "      <td>45</td>\n",
       "      <td>3.0</td>\n",
       "      <td>2</td>\n",
       "      <td>0</td>\n",
       "      <td>73</td>\n",
       "      <td>0</td>\n",
       "      <td>1</td>\n",
       "      <td>...</td>\n",
       "      <td>0</td>\n",
       "      <td>0</td>\n",
       "      <td>0</td>\n",
       "      <td>0</td>\n",
       "      <td>0</td>\n",
       "      <td>0</td>\n",
       "      <td>0</td>\n",
       "      <td>1</td>\n",
       "      <td>0</td>\n",
       "      <td>1</td>\n",
       "    </tr>\n",
       "  </tbody>\n",
       "</table>\n",
       "<p>5 rows × 57 columns</p>\n",
       "</div>\n",
       "    <div class=\"colab-df-buttons\">\n",
       "\n",
       "  <div class=\"colab-df-container\">\n",
       "    <button class=\"colab-df-convert\" onclick=\"convertToInteractive('df-661618a8-e73b-4055-8485-4d5ff99db822')\"\n",
       "            title=\"Convert this dataframe to an interactive table.\"\n",
       "            style=\"display:none;\">\n",
       "\n",
       "  <svg xmlns=\"http://www.w3.org/2000/svg\" height=\"24px\" viewBox=\"0 -960 960 960\">\n",
       "    <path d=\"M120-120v-720h720v720H120Zm60-500h600v-160H180v160Zm220 220h160v-160H400v160Zm0 220h160v-160H400v160ZM180-400h160v-160H180v160Zm440 0h160v-160H620v160ZM180-180h160v-160H180v160Zm440 0h160v-160H620v160Z\"/>\n",
       "  </svg>\n",
       "    </button>\n",
       "\n",
       "  <style>\n",
       "    .colab-df-container {\n",
       "      display:flex;\n",
       "      gap: 12px;\n",
       "    }\n",
       "\n",
       "    .colab-df-convert {\n",
       "      background-color: #E8F0FE;\n",
       "      border: none;\n",
       "      border-radius: 50%;\n",
       "      cursor: pointer;\n",
       "      display: none;\n",
       "      fill: #1967D2;\n",
       "      height: 32px;\n",
       "      padding: 0 0 0 0;\n",
       "      width: 32px;\n",
       "    }\n",
       "\n",
       "    .colab-df-convert:hover {\n",
       "      background-color: #E2EBFA;\n",
       "      box-shadow: 0px 1px 2px rgba(60, 64, 67, 0.3), 0px 1px 3px 1px rgba(60, 64, 67, 0.15);\n",
       "      fill: #174EA6;\n",
       "    }\n",
       "\n",
       "    .colab-df-buttons div {\n",
       "      margin-bottom: 4px;\n",
       "    }\n",
       "\n",
       "    [theme=dark] .colab-df-convert {\n",
       "      background-color: #3B4455;\n",
       "      fill: #D2E3FC;\n",
       "    }\n",
       "\n",
       "    [theme=dark] .colab-df-convert:hover {\n",
       "      background-color: #434B5C;\n",
       "      box-shadow: 0px 1px 3px 1px rgba(0, 0, 0, 0.15);\n",
       "      filter: drop-shadow(0px 1px 2px rgba(0, 0, 0, 0.3));\n",
       "      fill: #FFFFFF;\n",
       "    }\n",
       "  </style>\n",
       "\n",
       "    <script>\n",
       "      const buttonEl =\n",
       "        document.querySelector('#df-661618a8-e73b-4055-8485-4d5ff99db822 button.colab-df-convert');\n",
       "      buttonEl.style.display =\n",
       "        google.colab.kernel.accessAllowed ? 'block' : 'none';\n",
       "\n",
       "      async function convertToInteractive(key) {\n",
       "        const element = document.querySelector('#df-661618a8-e73b-4055-8485-4d5ff99db822');\n",
       "        const dataTable =\n",
       "          await google.colab.kernel.invokeFunction('convertToInteractive',\n",
       "                                                    [key], {});\n",
       "        if (!dataTable) return;\n",
       "\n",
       "        const docLinkHtml = 'Like what you see? Visit the ' +\n",
       "          '<a target=\"_blank\" href=https://colab.research.google.com/notebooks/data_table.ipynb>data table notebook</a>'\n",
       "          + ' to learn more about interactive tables.';\n",
       "        element.innerHTML = '';\n",
       "        dataTable['output_type'] = 'display_data';\n",
       "        await google.colab.output.renderOutput(dataTable, element);\n",
       "        const docLink = document.createElement('div');\n",
       "        docLink.innerHTML = docLinkHtml;\n",
       "        element.appendChild(docLink);\n",
       "      }\n",
       "    </script>\n",
       "  </div>\n",
       "\n",
       "\n",
       "<div id=\"df-3438fbeb-6784-4a7a-afad-74754f6a6636\">\n",
       "  <button class=\"colab-df-quickchart\" onclick=\"quickchart('df-3438fbeb-6784-4a7a-afad-74754f6a6636')\"\n",
       "            title=\"Suggest charts\"\n",
       "            style=\"display:none;\">\n",
       "\n",
       "<svg xmlns=\"http://www.w3.org/2000/svg\" height=\"24px\"viewBox=\"0 0 24 24\"\n",
       "     width=\"24px\">\n",
       "    <g>\n",
       "        <path d=\"M19 3H5c-1.1 0-2 .9-2 2v14c0 1.1.9 2 2 2h14c1.1 0 2-.9 2-2V5c0-1.1-.9-2-2-2zM9 17H7v-7h2v7zm4 0h-2V7h2v10zm4 0h-2v-4h2v4z\"/>\n",
       "    </g>\n",
       "</svg>\n",
       "  </button>\n",
       "\n",
       "<style>\n",
       "  .colab-df-quickchart {\n",
       "      --bg-color: #E8F0FE;\n",
       "      --fill-color: #1967D2;\n",
       "      --hover-bg-color: #E2EBFA;\n",
       "      --hover-fill-color: #174EA6;\n",
       "      --disabled-fill-color: #AAA;\n",
       "      --disabled-bg-color: #DDD;\n",
       "  }\n",
       "\n",
       "  [theme=dark] .colab-df-quickchart {\n",
       "      --bg-color: #3B4455;\n",
       "      --fill-color: #D2E3FC;\n",
       "      --hover-bg-color: #434B5C;\n",
       "      --hover-fill-color: #FFFFFF;\n",
       "      --disabled-bg-color: #3B4455;\n",
       "      --disabled-fill-color: #666;\n",
       "  }\n",
       "\n",
       "  .colab-df-quickchart {\n",
       "    background-color: var(--bg-color);\n",
       "    border: none;\n",
       "    border-radius: 50%;\n",
       "    cursor: pointer;\n",
       "    display: none;\n",
       "    fill: var(--fill-color);\n",
       "    height: 32px;\n",
       "    padding: 0;\n",
       "    width: 32px;\n",
       "  }\n",
       "\n",
       "  .colab-df-quickchart:hover {\n",
       "    background-color: var(--hover-bg-color);\n",
       "    box-shadow: 0 1px 2px rgba(60, 64, 67, 0.3), 0 1px 3px 1px rgba(60, 64, 67, 0.15);\n",
       "    fill: var(--button-hover-fill-color);\n",
       "  }\n",
       "\n",
       "  .colab-df-quickchart-complete:disabled,\n",
       "  .colab-df-quickchart-complete:disabled:hover {\n",
       "    background-color: var(--disabled-bg-color);\n",
       "    fill: var(--disabled-fill-color);\n",
       "    box-shadow: none;\n",
       "  }\n",
       "\n",
       "  .colab-df-spinner {\n",
       "    border: 2px solid var(--fill-color);\n",
       "    border-color: transparent;\n",
       "    border-bottom-color: var(--fill-color);\n",
       "    animation:\n",
       "      spin 1s steps(1) infinite;\n",
       "  }\n",
       "\n",
       "  @keyframes spin {\n",
       "    0% {\n",
       "      border-color: transparent;\n",
       "      border-bottom-color: var(--fill-color);\n",
       "      border-left-color: var(--fill-color);\n",
       "    }\n",
       "    20% {\n",
       "      border-color: transparent;\n",
       "      border-left-color: var(--fill-color);\n",
       "      border-top-color: var(--fill-color);\n",
       "    }\n",
       "    30% {\n",
       "      border-color: transparent;\n",
       "      border-left-color: var(--fill-color);\n",
       "      border-top-color: var(--fill-color);\n",
       "      border-right-color: var(--fill-color);\n",
       "    }\n",
       "    40% {\n",
       "      border-color: transparent;\n",
       "      border-right-color: var(--fill-color);\n",
       "      border-top-color: var(--fill-color);\n",
       "    }\n",
       "    60% {\n",
       "      border-color: transparent;\n",
       "      border-right-color: var(--fill-color);\n",
       "    }\n",
       "    80% {\n",
       "      border-color: transparent;\n",
       "      border-right-color: var(--fill-color);\n",
       "      border-bottom-color: var(--fill-color);\n",
       "    }\n",
       "    90% {\n",
       "      border-color: transparent;\n",
       "      border-bottom-color: var(--fill-color);\n",
       "    }\n",
       "  }\n",
       "</style>\n",
       "\n",
       "  <script>\n",
       "    async function quickchart(key) {\n",
       "      const quickchartButtonEl =\n",
       "        document.querySelector('#' + key + ' button');\n",
       "      quickchartButtonEl.disabled = true;  // To prevent multiple clicks.\n",
       "      quickchartButtonEl.classList.add('colab-df-spinner');\n",
       "      try {\n",
       "        const charts = await google.colab.kernel.invokeFunction(\n",
       "            'suggestCharts', [key], {});\n",
       "      } catch (error) {\n",
       "        console.error('Error during call to suggestCharts:', error);\n",
       "      }\n",
       "      quickchartButtonEl.classList.remove('colab-df-spinner');\n",
       "      quickchartButtonEl.classList.add('colab-df-quickchart-complete');\n",
       "    }\n",
       "    (() => {\n",
       "      let quickchartButtonEl =\n",
       "        document.querySelector('#df-3438fbeb-6784-4a7a-afad-74754f6a6636 button');\n",
       "      quickchartButtonEl.style.display =\n",
       "        google.colab.kernel.accessAllowed ? 'block' : 'none';\n",
       "    })();\n",
       "  </script>\n",
       "</div>\n",
       "    </div>\n",
       "  </div>\n"
      ],
      "text/plain": [
       "   employee_id  education  no_of_trainings  age  previous_year_rating  \\\n",
       "0        65438          2                1  147                   5.0   \n",
       "1        65141          1                1   30                   5.0   \n",
       "2         7513          1                1   34                   3.0   \n",
       "3         2542          1                2   39                   1.0   \n",
       "4        48945          1                1   45                   3.0   \n",
       "\n",
       "   length_of_service  awards_won?  avg_training_score  is_promoted  \\\n",
       "0                  8            0                  49            1   \n",
       "1                  4            0                  60            0   \n",
       "2                  7            0                  50            0   \n",
       "3                 10            0                  50            0   \n",
       "4                  2            0                  73            0   \n",
       "\n",
       "   recruitment_channel_other  ...  department_Finance  department_HR  \\\n",
       "0                          0  ...                   0              0   \n",
       "1                          1  ...                   0              0   \n",
       "2                          0  ...                   0              0   \n",
       "3                          1  ...                   0              0   \n",
       "4                          1  ...                   0              0   \n",
       "\n",
       "   department_Legal  department_Operations  department_Procurement  \\\n",
       "0                 0                      0                       0   \n",
       "1                 0                      1                       0   \n",
       "2                 0                      0                       0   \n",
       "3                 0                      0                       0   \n",
       "4                 0                      0                       0   \n",
       "\n",
       "   department_R&D  department_Sales & Marketing  department_Technology  \\\n",
       "0               0                             1                      0   \n",
       "1               0                             0                      0   \n",
       "2               0                             1                      0   \n",
       "3               0                             1                      0   \n",
       "4               0                             0                      1   \n",
       "\n",
       "   gender_f  gender_m  \n",
       "0         1         0  \n",
       "1         0         1  \n",
       "2         0         1  \n",
       "3         0         1  \n",
       "4         0         1  \n",
       "\n",
       "[5 rows x 57 columns]"
      ]
     },
     "execution_count": 97,
     "metadata": {},
     "output_type": "execute_result"
    }
   ],
   "source": [
    "df_encoded.head(5)"
   ]
  },
  {
   "cell_type": "code",
   "execution_count": null,
   "metadata": {
    "colab": {
     "base_uri": "https://localhost:8080/"
    },
    "id": "SSiM9Ycq2-Kb",
    "outputId": "bbc32a6e-e1a8-4186-b081-af7887677347"
   },
   "outputs": [
    {
     "data": {
      "text/plain": [
       "0    Sales & Marketing\n",
       "1           Operations\n",
       "2           Technology\n",
       "3            Analytics\n",
       "4                  R&D\n",
       "5          Procurement\n",
       "6              Finance\n",
       "7                   HR\n",
       "8                Legal\n",
       "dtype: object"
      ]
     },
     "execution_count": 98,
     "metadata": {},
     "output_type": "execute_result"
    }
   ],
   "source": [
    "pd.Series(df.department.unique())"
   ]
  }
 ],
 "metadata": {
  "colab": {
   "provenance": [],
   "toc_visible": true
  },
  "kernelspec": {
   "display_name": "Python 3 (ipykernel)",
   "language": "python",
   "name": "python3"
  },
  "language_info": {
   "codemirror_mode": {
    "name": "ipython",
    "version": 3
   },
   "file_extension": ".py",
   "mimetype": "text/x-python",
   "name": "python",
   "nbconvert_exporter": "python",
   "pygments_lexer": "ipython3",
   "version": "3.10.12"
  }
 },
 "nbformat": 4,
 "nbformat_minor": 4
}
